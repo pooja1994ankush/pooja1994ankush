{
 "cells": [
  {
   "cell_type": "markdown",
   "id": "306bc2a0",
   "metadata": {},
   "source": [
    "### Accept  any three string from  one input() call\n"
   ]
  },
  {
   "cell_type": "code",
   "execution_count": 9,
   "id": "95a784be",
   "metadata": {},
   "outputs": [
    {
     "name": "stdout",
     "output_type": "stream",
     "text": [
      "enter three string Pooja Teja Akush\n",
      "name 1:  Pooja\n",
      "name 2:  Teja\n",
      "name 3:  Akush\n"
     ]
    }
   ],
   "source": [
    "\n",
    "a,b,c=input(\"enter three string \").split()\n",
    "print(\"name 1: \",a)\n",
    "print(\"name 2: \",b)\n",
    "print(\"name 3: \",c)"
   ]
  },
  {
   "cell_type": "markdown",
   "id": "4b6410b3",
   "metadata": {},
   "source": [
    "### WAP to use string.format() method to format following variables as per the expected  output\n",
    "totalmoney=1000, \n",
    "quntity=3, \n",
    "price=450,                                                                                                             \n",
    "expected o/p = I have 1000 dollars so I can buy 3 football for 450.00 dollars."
   ]
  },
  {
   "cell_type": "code",
   "execution_count": 15,
   "id": "aa280b81",
   "metadata": {},
   "outputs": [
    {
     "name": "stdout",
     "output_type": "stream",
     "text": [
      "I have 1000 dollars so I can buy 3 football for 450.00 dollars.\n"
     ]
    }
   ],
   "source": [
    "totalmoney=1000\n",
    "quantity=3\n",
    "price=450\n",
    "print(\"I have {0} dollars so I can buy {1} football for {2:.2f} dollars.\".format(totalmoney,quantity,price))"
   ]
  },
  {
   "cell_type": "markdown",
   "id": "59f44601",
   "metadata": {},
   "source": [
    "### Check file is empty or not"
   ]
  },
  {
   "cell_type": "code",
   "execution_count": 24,
   "id": "86e8615a",
   "metadata": {},
   "outputs": [
    {
     "name": "stdout",
     "output_type": "stream",
     "text": [
      "File is empty\n"
     ]
    }
   ],
   "source": [
    "import os\n",
    "size=os.stat(\"text.txt\").st_size\n",
    "if size==0:\n",
    "    print(\"File is empty\") \n",
    "else:\n",
    "    print(\"File is not empty\")\n"
   ]
  },
  {
   "cell_type": "markdown",
   "id": "743da155",
   "metadata": {},
   "source": [
    "### Read line no. 4 from the following file\n",
    "                                                                                                                               \n",
    "                                                                                                                                                                                                                                                   \n",
    "line1                                                                                                                          \n",
    "line2                                                                                                                          \n",
    "line3                                                                                                                         \n",
    "line4                                                                                                                          \n",
    "line5"
   ]
  },
  {
   "cell_type": "code",
   "execution_count": 37,
   "id": "555d3241",
   "metadata": {},
   "outputs": [
    {
     "name": "stdout",
     "output_type": "stream",
     "text": [
      "linefour\n",
      "\n"
     ]
    }
   ],
   "source": [
    "fp=open(\"text.txt\",'r')\n",
    "x=fp.readlines()\n",
    "print(x[3])\n",
    "fp.close()"
   ]
  },
  {
   "cell_type": "markdown",
   "id": "c9295e7a",
   "metadata": {},
   "source": [
    "### Accept input from the user and display the occurence of that specific word from  a text file."
   ]
  },
  {
   "cell_type": "code",
   "execution_count": 38,
   "id": "c9e6c361",
   "metadata": {},
   "outputs": [
    {
     "name": "stdout",
     "output_type": "stream",
     "text": [
      "Enter a word Chrome\n",
      "Count of  Chrome is 2\n"
     ]
    }
   ],
   "source": [
    "n=str(input(\"Enter a word \"))\n",
    "fp=open(\"text2.txt\",'r')\n",
    "x=fp.read()\n",
    "s=x.split()\n",
    "count=0\n",
    "for i in range(len(s)):\n",
    "    if s[i]==n:\n",
    "        count+=1\n",
    "print(\"Count of \",n,\"is\",count)    "
   ]
  },
  {
   "cell_type": "code",
   "execution_count": null,
   "id": "12f2e0d8",
   "metadata": {},
   "outputs": [],
   "source": []
  }
 ],
 "metadata": {
  "kernelspec": {
   "display_name": "Python 3",
   "language": "python",
   "name": "python3"
  },
  "language_info": {
   "codemirror_mode": {
    "name": "ipython",
    "version": 3
   },
   "file_extension": ".py",
   "mimetype": "text/x-python",
   "name": "python",
   "nbconvert_exporter": "python",
   "pygments_lexer": "ipython3",
   "version": "3.8.8"
  }
 },
 "nbformat": 4,
 "nbformat_minor": 5
}
