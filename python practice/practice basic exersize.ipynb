{
 "cells": [
  {
   "cell_type": "markdown",
   "id": "c61cf738",
   "metadata": {},
   "source": [
    "### Given two integer numbers return their product only if the product is greater than 1000, else return their sum.\n"
   ]
  },
  {
   "cell_type": "code",
   "execution_count": 27,
   "id": "ffaa0c74",
   "metadata": {},
   "outputs": [
    {
     "name": "stdout",
     "output_type": "stream",
     "text": [
      "1500\n",
      "70\n"
     ]
    }
   ],
   "source": [
    "def fun(a,b):\n",
    "    c=a*b\n",
    "    d=a+b\n",
    "    if c>1000:\n",
    "        return c\n",
    "    else:\n",
    "        return d\n",
    "abc=fun(30,50)    \n",
    "print(abc)    \n",
    "abcd=fun(20,50)\n",
    "print(abcd)"
   ]
  },
  {
   "cell_type": "markdown",
   "id": "1221b30f",
   "metadata": {},
   "source": [
    "### Print the sum of the current number and the previous number\n"
   ]
  },
  {
   "cell_type": "code",
   "execution_count": 26,
   "id": "11b716f4",
   "metadata": {},
   "outputs": [
    {
     "name": "stdout",
     "output_type": "stream",
     "text": [
      "current no= 1 previous no=  0 sum=  1\n",
      "current no= 2 previous no=  1 sum=  3\n",
      "current no= 3 previous no=  2 sum=  5\n",
      "current no= 4 previous no=  3 sum=  7\n",
      "current no= 5 previous no=  4 sum=  9\n",
      "current no= 6 previous no=  5 sum=  11\n",
      "current no= 7 previous no=  6 sum=  13\n",
      "current no= 8 previous no=  7 sum=  15\n",
      "current no= 9 previous no=  8 sum=  17\n",
      "current no= 10 previous no=  9 sum=  19\n"
     ]
    }
   ],
   "source": [
    "sum=0\n",
    "for i in range(1,11):\n",
    "    pre_no=i-1\n",
    "    sum=pre_no+i\n",
    "    print(\"current no=\",i,\"previous no= \",i-1,\"sum= \",sum)    "
   ]
  },
  {
   "cell_type": "markdown",
   "id": "5f046ab5",
   "metadata": {},
   "source": [
    "### Write a program to accept a string from the user and display characters that are present at an even index number.\n"
   ]
  },
  {
   "cell_type": "code",
   "execution_count": 25,
   "id": "4e27ced3",
   "metadata": {},
   "outputs": [
    {
     "data": {
      "text/plain": [
       "'Pntv'"
      ]
     },
     "execution_count": 25,
     "metadata": {},
     "output_type": "execute_result"
    }
   ],
   "source": [
    "string=\"Pynative\"\n",
    "string[0::2]"
   ]
  },
  {
   "cell_type": "code",
   "execution_count": 24,
   "id": "c216da55",
   "metadata": {},
   "outputs": [
    {
     "name": "stdout",
     "output_type": "stream",
     "text": [
      "P\n",
      "n\n",
      "t\n",
      "v\n"
     ]
    }
   ],
   "source": [
    "string=\"Pynative\"\n",
    "s=len(string)\n",
    "for i in range(0,s,2):\n",
    "    print(string[i])"
   ]
  },
  {
   "cell_type": "markdown",
   "id": "ccd41e92",
   "metadata": {},
   "source": [
    "### Write a program to remove characters from a string starting from zero up to n and return a new string."
   ]
  },
  {
   "cell_type": "code",
   "execution_count": 36,
   "id": "b905ee35",
   "metadata": {},
   "outputs": [
    {
     "name": "stdout",
     "output_type": "stream",
     "text": [
      "aMane\n"
     ]
    }
   ],
   "source": [
    "sample=\"PoojaMane\"\n",
    "print(sample[4:])"
   ]
  },
  {
   "cell_type": "code",
   "execution_count": 38,
   "id": "eaf929cb",
   "metadata": {},
   "outputs": [
    {
     "name": "stdout",
     "output_type": "stream",
     "text": [
      "a\n",
      "M\n",
      "a\n",
      "n\n",
      "e\n"
     ]
    }
   ],
   "source": [
    "\n",
    "sample=\"PoojaMane\"\n",
    "s=len(sample)\n",
    "for i in range(4,n):\n",
    "    print(sample[i])\n",
    "        "
   ]
  },
  {
   "cell_type": "markdown",
   "id": "f35a0f7a",
   "metadata": {},
   "source": [
    "### Write a function to return True if the first and last number of a given list is same. If numbers are different then return False."
   ]
  },
  {
   "cell_type": "code",
   "execution_count": 58,
   "id": "15c8ba76",
   "metadata": {},
   "outputs": [
    {
     "name": "stdout",
     "output_type": "stream",
     "text": [
      "True\n",
      "False\n"
     ]
    }
   ],
   "source": [
    "\n",
    "def fun2(lst):\n",
    "    \n",
    "    for i in lst:\n",
    "        if i[0]==i[-1]:\n",
    "            return True\n",
    "        else:\n",
    "            return False\n",
    "a=[10,20,30,40,50,10]\n",
    "c=[10,20,30,40,50,60]\n",
    "b=fun2([a])\n",
    "d=fun2([c])\n",
    "print(b)\n",
    "print(d)"
   ]
  },
  {
   "cell_type": "code",
   "execution_count": null,
   "id": "9bd062e6",
   "metadata": {},
   "outputs": [],
   "source": []
  }
 ],
 "metadata": {
  "kernelspec": {
   "display_name": "Python 3",
   "language": "python",
   "name": "python3"
  },
  "language_info": {
   "codemirror_mode": {
    "name": "ipython",
    "version": 3
   },
   "file_extension": ".py",
   "mimetype": "text/x-python",
   "name": "python",
   "nbconvert_exporter": "python",
   "pygments_lexer": "ipython3",
   "version": "3.8.8"
  }
 },
 "nbformat": 4,
 "nbformat_minor": 5
}
