{
 "cells": [
  {
   "cell_type": "markdown",
   "id": "1866cd88",
   "metadata": {},
   "source": [
    "### display numbers divisible by 5 from a list\n"
   ]
  },
  {
   "cell_type": "code",
   "execution_count": 1,
   "id": "788324ae",
   "metadata": {},
   "outputs": [
    {
     "name": "stdout",
     "output_type": "stream",
     "text": [
      "10\n",
      "20\n",
      "55\n"
     ]
    }
   ],
   "source": [
    "lst=[10,20,33,46,55]\n",
    "for i in lst:\n",
    "    if i%5==0:\n",
    "        print(i)"
   ]
  },
  {
   "cell_type": "markdown",
   "id": "c3eb2ab9",
   "metadata": {},
   "source": [
    "### Write a program to find how many times sustring \"Emma\" appears in the given string."
   ]
  },
  {
   "cell_type": "code",
   "execution_count": 3,
   "id": "3a24d944",
   "metadata": {},
   "outputs": [
    {
     "name": "stdout",
     "output_type": "stream",
     "text": [
      "2\n"
     ]
    }
   ],
   "source": [
    "str_x=\"Emma is good developer. Emma is a writer\"\n",
    "print(str_x.count(\"Emma\"))\n"
   ]
  },
  {
   "cell_type": "markdown",
   "id": "3694d422",
   "metadata": {},
   "source": [
    "### print the following pattern"
   ]
  },
  {
   "cell_type": "code",
   "execution_count": 19,
   "id": "fc9ee2fc",
   "metadata": {},
   "outputs": [
    {
     "name": "stdout",
     "output_type": "stream",
     "text": [
      "1 \n",
      "2 2 \n",
      "3 3 3 \n",
      "4 4 4 4 \n",
      "5 5 5 5 5 \n"
     ]
    }
   ],
   "source": [
    "for i in range(1,6):\n",
    "    for j in range(1,i+1):\n",
    "        print(i,end=\" \")\n",
    "    print()    \n",
    "    "
   ]
  },
  {
   "cell_type": "markdown",
   "id": "ef8e807d",
   "metadata": {},
   "source": [
    "### Write a program to check if the no. is Palindrome number. "
   ]
  },
  {
   "cell_type": "markdown",
   "id": "e266d9fa",
   "metadata": {},
   "source": [
    "### A Palindrome number is a number that is same after reverse. eg.-545"
   ]
  },
  {
   "cell_type": "code",
   "execution_count": 38,
   "id": "dd2837b8",
   "metadata": {},
   "outputs": [
    {
     "name": "stdout",
     "output_type": "stream",
     "text": [
      "Enter a number 121\n",
      "121 is palindrome no.\n"
     ]
    }
   ],
   "source": [
    "n=int(input(\"Enter a number \"))\n",
    "m=n\n",
    "\n",
    "reverse_num=0\n",
    "while n>0:\n",
    "    r=n%10\n",
    "    reverse_num=reverse_num*10+r\n",
    "    n=n//10\n",
    "if reverse_num==m:\n",
    "    print(m,\"is palindrome no.\")\n",
    "else:\n",
    "    print(m,\"is not palindrome no.\")"
   ]
  },
  {
   "cell_type": "code",
   "execution_count": 39,
   "id": "fe54d39d",
   "metadata": {},
   "outputs": [
    {
     "name": "stdout",
     "output_type": "stream",
     "text": [
      "Enter a number 125\n",
      "125 is not palindrome no.\n"
     ]
    }
   ],
   "source": [
    "n=int(input(\"Enter a number \"))\n",
    "m=n\n",
    "\n",
    "reverse_num=0\n",
    "while n>0:\n",
    "    r=n%10\n",
    "    reverse_num=reverse_num*10+r\n",
    "    n=n//10\n",
    "if reverse_num==m:\n",
    "    print(m,\"is palindrome no.\")\n",
    "else:\n",
    "    print(m,\"is not palindrome no.\")"
   ]
  },
  {
   "cell_type": "markdown",
   "id": "2554dead",
   "metadata": {},
   "source": [
    "### Given a two list of numbers,write a program to create a new list such that the new list should contain odd numbers from first no. and even numbers from the second list."
   ]
  },
  {
   "cell_type": "code",
   "execution_count": 46,
   "id": "0002ed07",
   "metadata": {},
   "outputs": [
    {
     "name": "stdout",
     "output_type": "stream",
     "text": [
      "new_list =  [25, 35, 40, 60, 90]\n"
     ]
    }
   ],
   "source": [
    "list1=[10,20,25,30,35]\n",
    "list2=[40,45,60,75,90]\n",
    "new_list=[]\n",
    "for i in list1:\n",
    "    if i%2!=0:\n",
    "        new_list.append(i)\n",
    "for i in list2:\n",
    "    if i%2==0:\n",
    "        new_list.append(i)\n",
    "print(\"new_list = \",new_list)      "
   ]
  },
  {
   "cell_type": "code",
   "execution_count": null,
   "id": "7114bbe1",
   "metadata": {},
   "outputs": [],
   "source": []
  }
 ],
 "metadata": {
  "kernelspec": {
   "display_name": "Python 3",
   "language": "python",
   "name": "python3"
  },
  "language_info": {
   "codemirror_mode": {
    "name": "ipython",
    "version": 3
   },
   "file_extension": ".py",
   "mimetype": "text/x-python",
   "name": "python",
   "nbconvert_exporter": "python",
   "pygments_lexer": "ipython3",
   "version": "3.8.8"
  }
 },
 "nbformat": 4,
 "nbformat_minor": 5
}
