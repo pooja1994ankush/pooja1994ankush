{
 "cells": [
  {
   "cell_type": "markdown",
   "id": "3c35605f",
   "metadata": {},
   "source": [
    "## Q1.write a code to get the following ouput....'I love python program'\n"
   ]
  },
  {
   "cell_type": "code",
   "execution_count": 1,
   "id": "5c82362f",
   "metadata": {},
   "outputs": [
    {
     "data": {
      "text/plain": [
       "'I love python program'"
      ]
     },
     "execution_count": 1,
     "metadata": {},
     "output_type": "execute_result"
    }
   ],
   "source": [
    "x ='i LoVe pYtHoN PrOGrAm'\n",
    "x.capitalize()"
   ]
  },
  {
   "cell_type": "markdown",
   "id": "782b73ff",
   "metadata": {},
   "source": [
    "### Q2.write a code to get the following ouput....output-: 'I Love Python Program'"
   ]
  },
  {
   "cell_type": "code",
   "execution_count": 2,
   "id": "5b50b91d",
   "metadata": {},
   "outputs": [
    {
     "data": {
      "text/plain": [
       "'I Love Python Program'"
      ]
     },
     "execution_count": 2,
     "metadata": {},
     "output_type": "execute_result"
    }
   ],
   "source": [
    "x.title()"
   ]
  },
  {
   "cell_type": "markdown",
   "id": "a3290d9b",
   "metadata": {},
   "source": [
    "### Q3.write a code to get the following ouput....output-: 'i love python program'"
   ]
  },
  {
   "cell_type": "code",
   "execution_count": 3,
   "id": "3e53e211",
   "metadata": {},
   "outputs": [
    {
     "data": {
      "text/plain": [
       "'i love python program'"
      ]
     },
     "execution_count": 3,
     "metadata": {},
     "output_type": "execute_result"
    }
   ],
   "source": [
    "x.lower()"
   ]
  },
  {
   "cell_type": "markdown",
   "id": "2ab71977",
   "metadata": {},
   "source": [
    "### Q4.write a code to get the following ouput....output-: 'I LOVE PYTHON PROGRAM'"
   ]
  },
  {
   "cell_type": "code",
   "execution_count": 4,
   "id": "0400688e",
   "metadata": {},
   "outputs": [
    {
     "data": {
      "text/plain": [
       "'I LOVE PYTHON PROGRAM'"
      ]
     },
     "execution_count": 4,
     "metadata": {},
     "output_type": "execute_result"
    }
   ],
   "source": [
    "x.upper()"
   ]
  },
  {
   "cell_type": "markdown",
   "id": "bf48a608",
   "metadata": {},
   "source": [
    "### Q5.write a code to get the following ouput....output-: ['i', 'LoVe', 'pYtHoN', 'PrOGrAm']"
   ]
  },
  {
   "cell_type": "code",
   "execution_count": 5,
   "id": "de8334f1",
   "metadata": {},
   "outputs": [
    {
     "data": {
      "text/plain": [
       "['i', 'LoVe', 'pYtHoN', 'PrOGrAm']"
      ]
     },
     "execution_count": 5,
     "metadata": {},
     "output_type": "execute_result"
    }
   ],
   "source": [
    "x.split()"
   ]
  },
  {
   "cell_type": "markdown",
   "id": "dee25801",
   "metadata": {},
   "source": [
    "### Q6.use format method to inject the following name and age variable in given variable named string "
   ]
  },
  {
   "cell_type": "code",
   "execution_count": 6,
   "id": "3c036a9c",
   "metadata": {},
   "outputs": [
    {
     "name": "stdout",
     "output_type": "stream",
     "text": [
      "my name is python and my age is 30\n"
     ]
    }
   ],
   "source": [
    "name=\"python\"\n",
    "age=30\n",
    "string=\"my name is {} and my age is {}\"\n",
    "print(string.format(name,age))"
   ]
  },
  {
   "cell_type": "markdown",
   "id": "cb972d20",
   "metadata": {},
   "source": [
    "### Q7.write a code to retrieve the word 'pYtHoN' by using slicing from variable x  output-: 'pYtHoN'"
   ]
  },
  {
   "cell_type": "code",
   "execution_count": 7,
   "id": "ab510b72",
   "metadata": {},
   "outputs": [
    {
     "data": {
      "text/plain": [
       "'pYtHoN'"
      ]
     },
     "execution_count": 7,
     "metadata": {},
     "output_type": "execute_result"
    }
   ],
   "source": [
    "x[7:13]"
   ]
  },
  {
   "cell_type": "markdown",
   "id": "774983be",
   "metadata": {},
   "source": [
    "### Tuple            t = (2,1,4,6,2,1,4,1,2,7,1)"
   ]
  },
  {
   "cell_type": "markdown",
   "id": "1f93ec3b",
   "metadata": {},
   "source": [
    "### Q1.write the code to count the frequency of 1"
   ]
  },
  {
   "cell_type": "code",
   "execution_count": 9,
   "id": "685c6ec4",
   "metadata": {},
   "outputs": [
    {
     "data": {
      "text/plain": [
       "4"
      ]
     },
     "execution_count": 9,
     "metadata": {},
     "output_type": "execute_result"
    }
   ],
   "source": [
    "t = (2,1,4,6,2,1,4,1,2,7,1)\n",
    "t.count(1)"
   ]
  },
  {
   "cell_type": "markdown",
   "id": "f6af2395",
   "metadata": {},
   "source": [
    "### Q2.write a code to merge tuple t with (11,12,13,14) & store in variable named newt"
   ]
  },
  {
   "cell_type": "code",
   "execution_count": 11,
   "id": "3ba5ccc1",
   "metadata": {},
   "outputs": [
    {
     "data": {
      "text/plain": [
       "(2, 1, 4, 6, 2, 1, 4, 1, 2, 7, 1, 11, 12, 13, 14)"
      ]
     },
     "execution_count": 11,
     "metadata": {},
     "output_type": "execute_result"
    }
   ],
   "source": [
    "t1=(11,12,13,14)\n",
    "newt=t+t1\n",
    "newt"
   ]
  },
  {
   "cell_type": "markdown",
   "id": "3a29e421",
   "metadata": {},
   "source": [
    "### List x = [2,4,6,8,10]"
   ]
  },
  {
   "cell_type": "markdown",
   "id": "468193e5",
   "metadata": {},
   "source": [
    "### Q1.write a code to add a element 'eleven' , inside list at the end ====>output-:[2,4,6,8,10,'eleven']\n"
   ]
  },
  {
   "cell_type": "code",
   "execution_count": 32,
   "id": "86cf27a9",
   "metadata": {},
   "outputs": [
    {
     "data": {
      "text/plain": [
       "[2, 4, 6, 8, 10, 'eleven']"
      ]
     },
     "execution_count": 32,
     "metadata": {},
     "output_type": "execute_result"
    }
   ],
   "source": [
    "x = [2,4,6,8,10]\n",
    "x.append('eleven')\n",
    "x"
   ]
  },
  {
   "cell_type": "markdown",
   "id": "6b4ccca1",
   "metadata": {},
   "source": [
    "### Q2.perform an operation to get the following output===> output-: ['one', 2, 4, 6, 8, 10, 'eleven']\n"
   ]
  },
  {
   "cell_type": "code",
   "execution_count": 33,
   "id": "1c92c90d",
   "metadata": {},
   "outputs": [
    {
     "data": {
      "text/plain": [
       "['one', 2, 4, 6, 8, 10, 'eleven']"
      ]
     },
     "execution_count": 33,
     "metadata": {},
     "output_type": "execute_result"
    }
   ],
   "source": [
    "x.insert(0,'one')\n",
    "x"
   ]
  },
  {
   "cell_type": "markdown",
   "id": "b124d374",
   "metadata": {},
   "source": [
    "### Q3.perform an operation to merge the list y inside list x==> y= [12,13,14]    ===>output-: ['one', 2, 4, 6, 8, 10, 'eleven', 12, 13, 14]\n"
   ]
  },
  {
   "cell_type": "code",
   "execution_count": 34,
   "id": "9b16b21d",
   "metadata": {},
   "outputs": [
    {
     "data": {
      "text/plain": [
       "['one', 2, 4, 6, 8, 10, 'eleven', 12, 13, 14]"
      ]
     },
     "execution_count": 34,
     "metadata": {},
     "output_type": "execute_result"
    }
   ],
   "source": [
    "y=[12,13,14]\n",
    "x+y"
   ]
  },
  {
   "cell_type": "markdown",
   "id": "d1f1e948",
   "metadata": {},
   "source": [
    "### Q4.perform an operation to get the following output ===> output-: [14, 13, 12, 'eleven', 10, 8, 6, 4, 2, 'one']\n"
   ]
  },
  {
   "cell_type": "code",
   "execution_count": 35,
   "id": "16263c88",
   "metadata": {},
   "outputs": [
    {
     "data": {
      "text/plain": [
       "[14, 13, 12, 'eleven', 10, 8, 6, 4, 2, 'one']"
      ]
     },
     "execution_count": 35,
     "metadata": {},
     "output_type": "execute_result"
    }
   ],
   "source": [
    "a=(x+y)\n",
    "a.reverse()\n",
    "a"
   ]
  },
  {
   "cell_type": "markdown",
   "id": "05eb3aa7",
   "metadata": {},
   "source": [
    "### Q5.Perform one single operation to remove 'eleven', 10, 8 all together at once ===>output-: [14, 13, 12, 6, 4, 2, 'one']\n"
   ]
  },
  {
   "cell_type": "code",
   "execution_count": 36,
   "id": "b2cf5f58",
   "metadata": {},
   "outputs": [
    {
     "data": {
      "text/plain": [
       "[14, 13, 12, 6, 4, 2, 'one']"
      ]
     },
     "execution_count": 36,
     "metadata": {},
     "output_type": "execute_result"
    }
   ],
   "source": [
    "del a[3:6]\n",
    "a"
   ]
  },
  {
   "cell_type": "markdown",
   "id": "958962f1",
   "metadata": {},
   "source": [
    "### Q6.write a code to remove 'one' element from the list ==> output-: [14, 13, 12, 6, 4, 2]\n",
    "\n"
   ]
  },
  {
   "cell_type": "code",
   "execution_count": 37,
   "id": "867086d1",
   "metadata": {},
   "outputs": [
    {
     "data": {
      "text/plain": [
       "'one'"
      ]
     },
     "execution_count": 37,
     "metadata": {},
     "output_type": "execute_result"
    }
   ],
   "source": [
    "a.pop(-1)"
   ]
  },
  {
   "cell_type": "code",
   "execution_count": 38,
   "id": "dde74608",
   "metadata": {},
   "outputs": [
    {
     "data": {
      "text/plain": [
       "[14, 13, 12, 6, 4, 2]"
      ]
     },
     "execution_count": 38,
     "metadata": {},
     "output_type": "execute_result"
    }
   ],
   "source": [
    "a"
   ]
  },
  {
   "cell_type": "markdown",
   "id": "532899b4",
   "metadata": {},
   "source": [
    "### Q7.write a code to get the following output ===> output-: 'hey there hello world'\n",
    "\n"
   ]
  },
  {
   "cell_type": "code",
   "execution_count": 39,
   "id": "f028c83a",
   "metadata": {},
   "outputs": [
    {
     "data": {
      "text/plain": [
       "'hey there hello world'"
      ]
     },
     "execution_count": 39,
     "metadata": {},
     "output_type": "execute_result"
    }
   ],
   "source": [
    "# given\n",
    "x = [\"hey\",\"there\",\"hello\",\"world\"]\n",
    "y= \" \"\n",
    "y.join(x)"
   ]
  },
  {
   "cell_type": "markdown",
   "id": "44d3be5d",
   "metadata": {},
   "source": [
    "### Dictionary   ====> d = {'a':10,'b':30,'c':50,'d':100}\n",
    "\n"
   ]
  },
  {
   "cell_type": "markdown",
   "id": "243ce399",
   "metadata": {},
   "source": [
    "### Q1.write a code to update the value of key 'b' to 300 ===> output-: {'a':10,'b':300,'c':50,'d':100}\n"
   ]
  },
  {
   "cell_type": "code",
   "execution_count": 66,
   "id": "8f54b59d",
   "metadata": {},
   "outputs": [
    {
     "data": {
      "text/plain": [
       "{'a': 10, 'b': 300, 'c': 50, 'd': 100}"
      ]
     },
     "execution_count": 66,
     "metadata": {},
     "output_type": "execute_result"
    }
   ],
   "source": [
    "d = {'a':10,'b':30,'c':50,'d':100}\n",
    "d['b']=300\n",
    "d"
   ]
  },
  {
   "cell_type": "markdown",
   "id": "d220ba63",
   "metadata": {},
   "source": [
    "### Q2.write a code to check if key 'e' is present in dictionary d ,  if it 'e' is not present in d, then it should return 'e key does not exist'    =====>  output-: 'e key does not exist'\n"
   ]
  },
  {
   "cell_type": "code",
   "execution_count": 67,
   "id": "61fbc296",
   "metadata": {},
   "outputs": [
    {
     "data": {
      "text/plain": [
       "'e key does not exist'"
      ]
     },
     "execution_count": 67,
     "metadata": {},
     "output_type": "execute_result"
    }
   ],
   "source": [
    "d.get('e','e key does not exist')"
   ]
  },
  {
   "cell_type": "markdown",
   "id": "91b94d94",
   "metadata": {},
   "source": [
    "### Q3.write a code to add new key,value  i.e 'e',600 respectively inside dictionary d ==> output-: {'a':10,'b':300,'c':50,'d':100,'e':600}\n"
   ]
  },
  {
   "cell_type": "code",
   "execution_count": 68,
   "id": "af0edcd5",
   "metadata": {},
   "outputs": [
    {
     "data": {
      "text/plain": [
       "{'a': 10, 'b': 300, 'c': 50, 'd': 100, 'e': 600}"
      ]
     },
     "execution_count": 68,
     "metadata": {},
     "output_type": "execute_result"
    }
   ],
   "source": [
    "a={'e':600}\n",
    "d.update(a)\n",
    "d"
   ]
  },
  {
   "cell_type": "markdown",
   "id": "322c9c38",
   "metadata": {},
   "source": [
    "### Q4.write a code to display all the values from the dictionary  ====> output-: dict_values([10, 300, 50, 100, 600])\n",
    "\n"
   ]
  },
  {
   "cell_type": "code",
   "execution_count": 69,
   "id": "444e4570",
   "metadata": {},
   "outputs": [
    {
     "data": {
      "text/plain": [
       "dict_values([10, 300, 50, 100, 600])"
      ]
     },
     "execution_count": 69,
     "metadata": {},
     "output_type": "execute_result"
    }
   ],
   "source": [
    "d.values()"
   ]
  },
  {
   "cell_type": "markdown",
   "id": "ebcd8a17",
   "metadata": {},
   "source": [
    "### Q5.write a code to merge the dictionary x inside dictionry d\n"
   ]
  },
  {
   "cell_type": "markdown",
   "id": "8075613e",
   "metadata": {},
   "source": [
    "### x = {'i':11,'j':12,'k':13,'l':14}   ====> output-: {'a':10,'b':300,'c':50,'d':100,'e':600,'i':11,'j':12,'k':13,'l':14}\n",
    "\n"
   ]
  },
  {
   "cell_type": "code",
   "execution_count": 70,
   "id": "64edc87b",
   "metadata": {},
   "outputs": [
    {
     "data": {
      "text/plain": [
       "{'a': 10,\n",
       " 'b': 300,\n",
       " 'c': 50,\n",
       " 'd': 100,\n",
       " 'e': 600,\n",
       " 'i': 11,\n",
       " 'j': 12,\n",
       " 'k': 13,\n",
       " 'l': 14}"
      ]
     },
     "execution_count": 70,
     "metadata": {},
     "output_type": "execute_result"
    }
   ],
   "source": [
    "x = {'i':11,'j':12,'k':13,'l':14}\n",
    "d.update(x)\n",
    "d"
   ]
  },
  {
   "cell_type": "markdown",
   "id": "46f5d019",
   "metadata": {},
   "source": [
    "### Q6.write a code to remove the key 'j' from dictionary d  ===>output-{'a':10,'b':300,'c':50,'d':100,'e':600,'i':11,'k':13,'l':14}\n",
    "\n"
   ]
  },
  {
   "cell_type": "code",
   "execution_count": 71,
   "id": "53c3b737",
   "metadata": {},
   "outputs": [
    {
     "data": {
      "text/plain": [
       "{'a': 10, 'b': 300, 'c': 50, 'd': 100, 'e': 600, 'i': 11, 'k': 13, 'l': 14}"
      ]
     },
     "execution_count": 71,
     "metadata": {},
     "output_type": "execute_result"
    }
   ],
   "source": [
    "d.pop('j')\n",
    "d"
   ]
  },
  {
   "cell_type": "markdown",
   "id": "4dd25b0a",
   "metadata": {},
   "source": [
    "### Set a = {1,2,3,4,5} ,b = {3,4,5,6,7,8,9}\n"
   ]
  },
  {
   "cell_type": "markdown",
   "id": "d4698703",
   "metadata": {},
   "source": [
    "### Q1. Write a code to perform union operation on a and b set"
   ]
  },
  {
   "cell_type": "code",
   "execution_count": 73,
   "id": "91d6ea28",
   "metadata": {},
   "outputs": [
    {
     "data": {
      "text/plain": [
       "{1, 2, 3, 4, 5, 6, 7, 8, 9}"
      ]
     },
     "execution_count": 73,
     "metadata": {},
     "output_type": "execute_result"
    }
   ],
   "source": [
    "a = {1,2,3,4,5} \n",
    "b = {3,4,5,6,7,8,9}\n",
    "a|b"
   ]
  },
  {
   "cell_type": "markdown",
   "id": "5a935a72",
   "metadata": {},
   "source": [
    "### Q2. Write a code to perform intersection operation on set a and b"
   ]
  },
  {
   "cell_type": "code",
   "execution_count": 74,
   "id": "2ed82e19",
   "metadata": {},
   "outputs": [
    {
     "data": {
      "text/plain": [
       "{3, 4, 5}"
      ]
     },
     "execution_count": 74,
     "metadata": {},
     "output_type": "execute_result"
    }
   ],
   "source": [
    "a&b"
   ]
  },
  {
   "cell_type": "markdown",
   "id": "f91e77af",
   "metadata": {},
   "source": [
    "### Q3. Write a code to add 6, in set a"
   ]
  },
  {
   "cell_type": "code",
   "execution_count": 77,
   "id": "180fbda1",
   "metadata": {},
   "outputs": [
    {
     "data": {
      "text/plain": [
       "{1, 2, 3, 4, 5, 6}"
      ]
     },
     "execution_count": 77,
     "metadata": {},
     "output_type": "execute_result"
    }
   ],
   "source": [
    "a.add(6)\n",
    "a"
   ]
  },
  {
   "cell_type": "markdown",
   "id": "dcea4921",
   "metadata": {},
   "source": [
    "### Operators"
   ]
  },
  {
   "cell_type": "markdown",
   "id": "005bbeab",
   "metadata": {},
   "source": [
    "### Area of triangle (0.5xbxh)"
   ]
  },
  {
   "cell_type": "code",
   "execution_count": 92,
   "id": "247926e3",
   "metadata": {},
   "outputs": [
    {
     "name": "stdout",
     "output_type": "stream",
     "text": [
      "enter base of triangle  5.6\n",
      "enter height of triangle  2.3\n",
      "area of triangle = 6.44\n"
     ]
    }
   ],
   "source": [
    "b=float(input(\"enter base of triangle  \"))\n",
    "h=float(input(\"enter height of triangle  \"))\n",
    "triangle_area=0.5*b*h\n",
    "print(\"area of triangle = {:.2f}\".format(triangle_area))"
   ]
  },
  {
   "cell_type": "markdown",
   "id": "7d4e3876",
   "metadata": {},
   "source": [
    "### vol of sphere(4/3)x3.14x(r^3)"
   ]
  },
  {
   "cell_type": "code",
   "execution_count": 89,
   "id": "4824d9bc",
   "metadata": {},
   "outputs": [
    {
     "name": "stdout",
     "output_type": "stream",
     "text": [
      "enter radius of sphere5.6\n",
      "volume of sphere = 735.25\n"
     ]
    }
   ],
   "source": [
    "r=float(input(\"enter radius of sphere\"))\n",
    "sphere_volume=(4/3)*3.14*(r**3)\n",
    "print(\"volume of sphere = {0:.2f}\".format(sphere_volume))"
   ]
  },
  {
   "cell_type": "markdown",
   "id": "084e664e",
   "metadata": {},
   "source": [
    "### Swap the variable x=10,y=5"
   ]
  },
  {
   "cell_type": "code",
   "execution_count": 95,
   "id": "6aab48cf",
   "metadata": {},
   "outputs": [
    {
     "name": "stdout",
     "output_type": "stream",
     "text": [
      "before swapping :  10\n",
      "before swapping :  5\n",
      "after swapping :  5\n",
      "after swapping :  10\n"
     ]
    }
   ],
   "source": [
    "x=10\n",
    "y=5\n",
    "print(\"before swapping : \",x)\n",
    "print(\"before swapping : \",y)\n",
    "z=x\n",
    "x=y\n",
    "y=z\n",
    "print(\"after swapping : \",x)\n",
    "print(\"after swapping : \",y)"
   ]
  },
  {
   "cell_type": "markdown",
   "id": "e9958b5f",
   "metadata": {},
   "source": [
    "### WAP which takes two numbers as input and it should calculate & display all the arithmetic operation"
   ]
  },
  {
   "cell_type": "code",
   "execution_count": 100,
   "id": "4df1904b",
   "metadata": {},
   "outputs": [
    {
     "name": "stdout",
     "output_type": "stream",
     "text": [
      "enter any no.  14\n",
      "enter any no.  5\n",
      "\n",
      "addition :  19.0\n",
      "substraction :  9.0\n",
      "multiplication :  70.0\n",
      "division :  2.8\n",
      "perfect division :  2.0\n",
      "remender :  4.0\n"
     ]
    }
   ],
   "source": [
    "a=float(input(\"enter any no.  \"))\n",
    "b=float(input(\"enter any no.  \"))\n",
    "print()\n",
    "print(\"addition : \",a+b)\n",
    "print(\"substraction : \",a-b)\n",
    "print(\"multiplication : \",a*b)\n",
    "print(\"division : \",a/b)\n",
    "print(\"perfect division : \",a//b)\n",
    "print(\"remender : \",a%b)\n",
    "\n"
   ]
  },
  {
   "cell_type": "markdown",
   "id": "af13bab2",
   "metadata": {},
   "source": [
    "### Flow Control"
   ]
  },
  {
   "cell_type": "markdown",
   "id": "1b19c4d8",
   "metadata": {},
   "source": [
    "### WAP for check a number is leap year or not by using following constraints-:"
   ]
  },
  {
   "cell_type": "code",
   "execution_count": 104,
   "id": "8c557d11",
   "metadata": {},
   "outputs": [
    {
     "name": "stdout",
     "output_type": "stream",
     "text": [
      "2020 is leap year\n",
      "2021 is not leap year\n",
      "1700 is not leap year\n"
     ]
    }
   ],
   "source": [
    "#y=int(input(\"enter any year  \"))\n",
    "def leap(n):\n",
    "    if (n%4==0 and n%100!=0) or (n%400==0):\n",
    "        print(n, \"is leap year\")\n",
    "    else:\n",
    "        print(n, \"is not leap year\")\n",
    "leap(2020)\n",
    "leap(2021)\n",
    "leap(1700)"
   ]
  },
  {
   "cell_type": "markdown",
   "id": "2a10d861",
   "metadata": {},
   "source": [
    "### WAP to display the grade given a mark by using following constraint-:"
   ]
  },
  {
   "cell_type": "code",
   "execution_count": null,
   "id": "30f79108",
   "metadata": {},
   "outputs": [],
   "source": [
    "Constraints -:\n",
    "\n",
    "\t75 & above  -: A grade\n",
    "\n",
    "\t60-74\t\t-: B grade  \n",
    "\n",
    "\t35-59\t\t-: C grade\n",
    "\n",
    "\tBelow 35\t-: Fail\n",
    "\n"
   ]
  },
  {
   "cell_type": "code",
   "execution_count": 105,
   "id": "f9f38a24",
   "metadata": {},
   "outputs": [
    {
     "name": "stdout",
     "output_type": "stream",
     "text": [
      "enter any marks  45\n",
      "C grade\n"
     ]
    }
   ],
   "source": [
    "marks=int(input(\"enter any marks  \"))\n",
    "if marks>=75 :\n",
    "    print(\"A grade\")\n",
    "elif marks>=60 and marks<=74:\n",
    "    print(\"B grade\")\n",
    "elif marks>=35 and marks<=59:\n",
    "    print(\"C grade\")\n",
    "elif marks<35:\n",
    "    print(\"fail\")\n",
    "    "
   ]
  },
  {
   "cell_type": "markdown",
   "id": "6a49fd0f",
   "metadata": {},
   "source": [
    "### WAP to check weather the number is even or odd\n"
   ]
  },
  {
   "cell_type": "code",
   "execution_count": 106,
   "id": "63e0c262",
   "metadata": {},
   "outputs": [
    {
     "name": "stdout",
     "output_type": "stream",
     "text": [
      "enter any no. 56\n",
      "56  is even\n"
     ]
    }
   ],
   "source": [
    "n=int(input(\"enter any no. \"))\n",
    "if n%2==0:\n",
    "    print(n,\" is even\")\n",
    "else:\n",
    "    print(n,\" is odd\")"
   ]
  },
  {
   "cell_type": "markdown",
   "id": "9f7492f2",
   "metadata": {},
   "source": [
    "### LOOPs"
   ]
  },
  {
   "cell_type": "markdown",
   "id": "2eb0b996",
   "metadata": {},
   "source": [
    "### WAP to print 1-10 using while loop"
   ]
  },
  {
   "cell_type": "code",
   "execution_count": 107,
   "id": "444959c8",
   "metadata": {},
   "outputs": [
    {
     "name": "stdout",
     "output_type": "stream",
     "text": [
      "1\n",
      "2\n",
      "3\n",
      "4\n",
      "5\n",
      "6\n",
      "7\n",
      "8\n",
      "9\n",
      "10\n"
     ]
    }
   ],
   "source": [
    "i=1\n",
    "while(i<=10):\n",
    "    print(i)\n",
    "    i+=1"
   ]
  },
  {
   "cell_type": "markdown",
   "id": "3b046e02",
   "metadata": {},
   "source": [
    "### WAP to print 10-1 using while loop"
   ]
  },
  {
   "cell_type": "code",
   "execution_count": 109,
   "id": "9b217eac",
   "metadata": {},
   "outputs": [
    {
     "name": "stdout",
     "output_type": "stream",
     "text": [
      "10\n",
      "9\n",
      "8\n",
      "7\n",
      "6\n",
      "5\n",
      "4\n",
      "3\n",
      "2\n",
      "1\n"
     ]
    }
   ],
   "source": [
    "i=10\n",
    "while(i>=1):\n",
    "    print(i)\n",
    "    i-=1"
   ]
  },
  {
   "cell_type": "markdown",
   "id": "6e226e9a",
   "metadata": {},
   "source": [
    "### WAP to print nth fibonacci series using while loop"
   ]
  },
  {
   "cell_type": "code",
   "execution_count": 112,
   "id": "2862e3ed",
   "metadata": {},
   "outputs": [
    {
     "name": "stdout",
     "output_type": "stream",
     "text": [
      "enter any no. 10\n",
      "0\n",
      "1\n",
      "1\n",
      "2\n",
      "3\n",
      "5\n",
      "8\n"
     ]
    }
   ],
   "source": [
    "n=int(input(\"enter any no. \"))\n",
    "i=0\n",
    "i1=1\n",
    "while i<=n:\n",
    "    print(i)\n",
    "    a=i+i1\n",
    "    i=i1\n",
    "    i1=a\n",
    "    "
   ]
  },
  {
   "cell_type": "markdown",
   "id": "e794ae8d",
   "metadata": {},
   "source": [
    "### WAP to calculate the factorial of number using while loop"
   ]
  },
  {
   "cell_type": "code",
   "execution_count": 113,
   "id": "981314ce",
   "metadata": {},
   "outputs": [
    {
     "name": "stdout",
     "output_type": "stream",
     "text": [
      "enter any no. 5\n",
      "factorial of  5 is 120\n"
     ]
    }
   ],
   "source": [
    "n=int(input(\"enter any no. \"))\n",
    "i=1\n",
    "fact=1\n",
    "while i<=n:\n",
    "    fact=fact*i\n",
    "    i+=1\n",
    "print(\"factorial of \",n,\"is\",fact)"
   ]
  },
  {
   "cell_type": "markdown",
   "id": "6618414f",
   "metadata": {},
   "source": [
    "### WAP to print the sum of  1st nth natural numbers using while loop"
   ]
  },
  {
   "cell_type": "code",
   "execution_count": 114,
   "id": "f752a01d",
   "metadata": {},
   "outputs": [
    {
     "name": "stdout",
     "output_type": "stream",
     "text": [
      "enter any no. 10\n",
      "Sum of 1st 10 no. is:-  55\n"
     ]
    }
   ],
   "source": [
    "n=int(input(\"enter any no. \"))\n",
    "i=1\n",
    "sum=0\n",
    "while i<=n:\n",
    "    sum=sum+i\n",
    "    i+=1\n",
    "print(\"Sum of 1st\",n,\"no. is:- \",sum)\n",
    "    "
   ]
  },
  {
   "cell_type": "markdown",
   "id": "53a2c1e1",
   "metadata": {},
   "source": [
    "### WAP to print the table of given N using while loop"
   ]
  },
  {
   "cell_type": "code",
   "execution_count": 116,
   "id": "62ed49a8",
   "metadata": {},
   "outputs": [
    {
     "name": "stdout",
     "output_type": "stream",
     "text": [
      "enter any no. 5\n",
      "5\n",
      "10\n",
      "15\n",
      "20\n",
      "25\n",
      "30\n",
      "35\n",
      "40\n",
      "45\n",
      "50\n"
     ]
    }
   ],
   "source": [
    "n=int(input(\"enter any no. \"))\n",
    "i=1\n",
    "while i<=10:\n",
    "    table=i*n\n",
    "    i+=1\n",
    "    print(table)"
   ]
  },
  {
   "cell_type": "markdown",
   "id": "a8af164c",
   "metadata": {},
   "source": [
    "### WAP to print 1-10 using for loop"
   ]
  },
  {
   "cell_type": "code",
   "execution_count": 130,
   "id": "df26a660",
   "metadata": {},
   "outputs": [
    {
     "name": "stdout",
     "output_type": "stream",
     "text": [
      "enter any no. 10\n",
      "1\n",
      "2\n",
      "3\n",
      "4\n",
      "5\n",
      "6\n",
      "7\n",
      "8\n",
      "9\n",
      "10\n"
     ]
    }
   ],
   "source": [
    "n=int(input(\"enter any no. \"))\n",
    "for i in range(1,n+1):\n",
    "    print(i)"
   ]
  },
  {
   "cell_type": "markdown",
   "id": "3330bb00",
   "metadata": {},
   "source": [
    "### WAP to print 10-1 using for loop"
   ]
  },
  {
   "cell_type": "code",
   "execution_count": 131,
   "id": "2efe6f18",
   "metadata": {},
   "outputs": [
    {
     "name": "stdout",
     "output_type": "stream",
     "text": [
      "enter any no. 10\n",
      "10\n",
      "9\n",
      "8\n",
      "7\n",
      "6\n",
      "5\n",
      "4\n",
      "3\n",
      "2\n",
      "1\n"
     ]
    }
   ],
   "source": [
    "n= int(input(\"enter any no. \"))\n",
    "for i in range(n,0,-1):\n",
    "    print(i)"
   ]
  },
  {
   "cell_type": "markdown",
   "id": "904c01e4",
   "metadata": {},
   "source": [
    "### WAP to print nth fibonacci series\n"
   ]
  },
  {
   "cell_type": "code",
   "execution_count": 140,
   "id": "93b27962",
   "metadata": {},
   "outputs": [
    {
     "name": "stdout",
     "output_type": "stream",
     "text": [
      "enter any no. 10\n",
      "0\n",
      "1\n",
      "1\n",
      "2\n",
      "3\n",
      "5\n",
      "8\n",
      "13\n",
      "21\n",
      "34\n",
      "55\n"
     ]
    }
   ],
   "source": [
    "n=int(input(\"enter any no. \"))\n",
    "first=0\n",
    "second=1\n",
    "\n",
    "for i in range(0,n+1):\n",
    "        print(first)\n",
    "        next=first+second\n",
    "        first=second\n",
    "        second=next\n",
    "#        print(next)\n",
    "        \n",
    "        \n",
    "    "
   ]
  },
  {
   "cell_type": "markdown",
   "id": "db0e0193",
   "metadata": {},
   "source": [
    "### WAP to calculate the factorial of number using for loop"
   ]
  },
  {
   "cell_type": "code",
   "execution_count": 146,
   "id": "173c3f61",
   "metadata": {},
   "outputs": [
    {
     "name": "stdout",
     "output_type": "stream",
     "text": [
      "enter any no. 5\n",
      "120\n"
     ]
    }
   ],
   "source": [
    "n=int(input(\"enter any no. \"))\n",
    "fact=1\n",
    "for i in range (1,n+1):\n",
    "    fact=fact*i\n",
    "print(fact)"
   ]
  },
  {
   "cell_type": "markdown",
   "id": "76be6e5c",
   "metadata": {},
   "source": [
    "### WAP to add 1st nth natural using for loop"
   ]
  },
  {
   "cell_type": "code",
   "execution_count": 147,
   "id": "d775ddac",
   "metadata": {},
   "outputs": [
    {
     "name": "stdout",
     "output_type": "stream",
     "text": [
      "enter any no. 10\n",
      "55\n"
     ]
    }
   ],
   "source": [
    "n=int(input(\"enter any no. \"))\n",
    "sum=0\n",
    "for i in range(1,n+1):\n",
    "    sum=sum+i\n",
    "print(sum)"
   ]
  },
  {
   "cell_type": "markdown",
   "id": "3ac4b8c9",
   "metadata": {},
   "source": [
    "### WAP to print the table of given N using for loop\n",
    "\n"
   ]
  },
  {
   "cell_type": "code",
   "execution_count": 148,
   "id": "2ac7b2b0",
   "metadata": {},
   "outputs": [
    {
     "name": "stdout",
     "output_type": "stream",
     "text": [
      "enter any no. 25\n",
      "25\n",
      "50\n",
      "75\n",
      "100\n",
      "125\n",
      "150\n",
      "175\n",
      "200\n",
      "225\n",
      "250\n"
     ]
    }
   ],
   "source": [
    "n=int(input(\"enter any no. \"))\n",
    "for i in range(1,11):\n",
    "    table=n*i\n",
    "    print(table)"
   ]
  },
  {
   "cell_type": "markdown",
   "id": "28688ff4",
   "metadata": {},
   "source": [
    "### WAP to list out all the leap years from 1900-2030 using for loop"
   ]
  },
  {
   "cell_type": "code",
   "execution_count": 149,
   "id": "46417651",
   "metadata": {},
   "outputs": [
    {
     "name": "stdout",
     "output_type": "stream",
     "text": [
      "1999 is not leap year\n",
      "2000 is leap year\n",
      "2001 is not leap year\n",
      "2002 is not leap year\n",
      "2003 is not leap year\n",
      "2004 is leap year\n",
      "2005 is not leap year\n",
      "2006 is not leap year\n",
      "2007 is not leap year\n",
      "2008 is leap year\n",
      "2009 is not leap year\n",
      "2010 is not leap year\n",
      "2011 is not leap year\n",
      "2012 is leap year\n",
      "2013 is not leap year\n",
      "2014 is not leap year\n",
      "2015 is not leap year\n",
      "2016 is leap year\n",
      "2017 is not leap year\n",
      "2018 is not leap year\n",
      "2019 is not leap year\n",
      "2020 is leap year\n",
      "2021 is not leap year\n",
      "2022 is not leap year\n",
      "2023 is not leap year\n",
      "2024 is leap year\n",
      "2025 is not leap year\n",
      "2026 is not leap year\n",
      "2027 is not leap year\n",
      "2028 is leap year\n",
      "2029 is not leap year\n",
      "2030 is not leap year\n"
     ]
    }
   ],
   "source": [
    "for i in range(1999,2031):\n",
    "    if (i%4==0 and i%100!=0) or i%400==0:\n",
    "        print(i,\"is leap year\")\n",
    "    else:\n",
    "        print(i,\"is not leap year\")"
   ]
  },
  {
   "cell_type": "markdown",
   "id": "05171dd3",
   "metadata": {},
   "source": [
    "### WAP to give all the even and odd number in list from 1-100 using for loop"
   ]
  },
  {
   "cell_type": "code",
   "execution_count": 150,
   "id": "6cab8464",
   "metadata": {},
   "outputs": [
    {
     "name": "stdout",
     "output_type": "stream",
     "text": [
      "1 is odd\n",
      "2 is even\n",
      "3 is odd\n",
      "4 is even\n",
      "5 is odd\n",
      "6 is even\n",
      "7 is odd\n",
      "8 is even\n",
      "9 is odd\n",
      "10 is even\n",
      "11 is odd\n",
      "12 is even\n",
      "13 is odd\n",
      "14 is even\n",
      "15 is odd\n",
      "16 is even\n",
      "17 is odd\n",
      "18 is even\n",
      "19 is odd\n",
      "20 is even\n",
      "21 is odd\n",
      "22 is even\n",
      "23 is odd\n",
      "24 is even\n",
      "25 is odd\n",
      "26 is even\n",
      "27 is odd\n",
      "28 is even\n",
      "29 is odd\n",
      "30 is even\n",
      "31 is odd\n",
      "32 is even\n",
      "33 is odd\n",
      "34 is even\n",
      "35 is odd\n",
      "36 is even\n",
      "37 is odd\n",
      "38 is even\n",
      "39 is odd\n",
      "40 is even\n",
      "41 is odd\n",
      "42 is even\n",
      "43 is odd\n",
      "44 is even\n",
      "45 is odd\n",
      "46 is even\n",
      "47 is odd\n",
      "48 is even\n",
      "49 is odd\n",
      "50 is even\n",
      "51 is odd\n",
      "52 is even\n",
      "53 is odd\n",
      "54 is even\n",
      "55 is odd\n",
      "56 is even\n",
      "57 is odd\n",
      "58 is even\n",
      "59 is odd\n",
      "60 is even\n",
      "61 is odd\n",
      "62 is even\n",
      "63 is odd\n",
      "64 is even\n",
      "65 is odd\n",
      "66 is even\n",
      "67 is odd\n",
      "68 is even\n",
      "69 is odd\n",
      "70 is even\n",
      "71 is odd\n",
      "72 is even\n",
      "73 is odd\n",
      "74 is even\n",
      "75 is odd\n",
      "76 is even\n",
      "77 is odd\n",
      "78 is even\n",
      "79 is odd\n",
      "80 is even\n",
      "81 is odd\n",
      "82 is even\n",
      "83 is odd\n",
      "84 is even\n",
      "85 is odd\n",
      "86 is even\n",
      "87 is odd\n",
      "88 is even\n",
      "89 is odd\n",
      "90 is even\n",
      "91 is odd\n",
      "92 is even\n",
      "93 is odd\n",
      "94 is even\n",
      "95 is odd\n",
      "96 is even\n",
      "97 is odd\n",
      "98 is even\n",
      "99 is odd\n",
      "100 is even\n"
     ]
    }
   ],
   "source": [
    "for i in range(1,101):\n",
    "    if i%2==0:\n",
    "        print(i,\"is even\")\n",
    "    else:\n",
    "        print(i,\"is odd\")"
   ]
  },
  {
   "cell_type": "markdown",
   "id": "cf0f575a",
   "metadata": {},
   "source": [
    "### wap to reverse a number     ==>input -: 7546 ====>ouput -: 6457\n"
   ]
  },
  {
   "cell_type": "code",
   "execution_count": 151,
   "id": "4472f5d3",
   "metadata": {},
   "outputs": [
    {
     "name": "stdout",
     "output_type": "stream",
     "text": [
      "6457\n"
     ]
    }
   ],
   "source": [
    "a=int(7546)\n",
    "i=0\n",
    "res=0\n",
    "while a>0:\n",
    "    rem=a%10\n",
    "    res=(res*10)+rem\n",
    "    a=a//10\n",
    "print(res)\n",
    "    "
   ]
  },
  {
   "cell_type": "markdown",
   "id": "28556472",
   "metadata": {},
   "source": [
    "### WAP to check whether the given number is palindrome or not"
   ]
  },
  {
   "cell_type": "code",
   "execution_count": 154,
   "id": "a8364e49",
   "metadata": {},
   "outputs": [
    {
     "name": "stdout",
     "output_type": "stream",
     "text": [
      "enter any no. 121\n",
      "121 is palindrome no.\n"
     ]
    }
   ],
   "source": [
    "# palindrome no. reversed no. is exactly equal to original no.\n",
    "n=int(input(\"enter any no. \"))\n",
    "temp=n\n",
    "i=0\n",
    "res=0\n",
    "while n>0:\n",
    "    rem=n%10\n",
    "    res=(res*10)+rem\n",
    "    n=n//10\n",
    "if temp==res:\n",
    "    print(temp,\"is palindrome no.\")\n",
    "else:\n",
    "    print(temp,\"is not palindrome no. \")"
   ]
  },
  {
   "cell_type": "markdown",
   "id": "2f619494",
   "metadata": {},
   "source": [
    "### WAP to check whether the given number is armstrong or not"
   ]
  },
  {
   "cell_type": "code",
   "execution_count": 159,
   "id": "cfb40084",
   "metadata": {},
   "outputs": [
    {
     "name": "stdout",
     "output_type": "stream",
     "text": [
      "enter any no. 153\n",
      "153 is armstrong no.\n"
     ]
    }
   ],
   "source": [
    "# sum of cube of each digit is called armstrong no.\n",
    "n=int(input(\"enter any no. \"))\n",
    "temp=n\n",
    "i=0\n",
    "res=0\n",
    "while n>0:\n",
    "    rem=n%10\n",
    "    res=res+rem**3\n",
    "    n=n//10\n",
    "if temp==res:\n",
    "    print(temp,\"is armstrong no.\")\n",
    "else:\n",
    "    print(temp,\"is not armstrong no.\")\n",
    "    "
   ]
  },
  {
   "cell_type": "markdown",
   "id": "4b1e8bc0",
   "metadata": {},
   "source": [
    "### WAP to check whether the given number is Strong or not"
   ]
  },
  {
   "cell_type": "code",
   "execution_count": 165,
   "id": "2a1677ea",
   "metadata": {},
   "outputs": [
    {
     "name": "stdout",
     "output_type": "stream",
     "text": [
      "enter any no. 145\n",
      "145 is strong no.\n"
     ]
    }
   ],
   "source": [
    "# strong no==> sum of factorial of each digit equal to original no.\n",
    "def factorial(a):\n",
    "    fact=1\n",
    "    for i in range(1,a+1):\n",
    "        fact=fact*i\n",
    "    return fact\n",
    "#factorial(5)\n",
    "n=int(input(\"enter any no. \"))\n",
    "i=0\n",
    "res=0\n",
    "temp=n\n",
    "while n>0:\n",
    "    rem=n%10\n",
    "    res=res+factorial(rem)\n",
    "    n=n//10\n",
    "if temp==res:\n",
    "    print(temp,\"is strong no.\")\n",
    "else:\n",
    "    print(temp,\"is not strong no.\")"
   ]
  },
  {
   "cell_type": "markdown",
   "id": "09f4f62f",
   "metadata": {},
   "source": [
    "### WAP to check whether the given number is Neon or not\n",
    "\n"
   ]
  },
  {
   "cell_type": "code",
   "execution_count": 169,
   "id": "592c096f",
   "metadata": {},
   "outputs": [
    {
     "name": "stdout",
     "output_type": "stream",
     "text": [
      "enter any no. 81\n",
      "81 is neon no.\n"
     ]
    }
   ],
   "source": [
    "# neon no.==> square of sum of each digit is equal to original digit\n",
    "n=int(input(\"enter any no. \"))\n",
    "i=0\n",
    "res=0\n",
    "temp=n\n",
    "while n>0:\n",
    "    rem=n%10\n",
    "    res=res+rem\n",
    "    n=n//10\n",
    "if temp==res**2:\n",
    "    print(temp,\"is neon no.\")\n",
    "else:\n",
    "    print(temp,\"is not neon no.\")"
   ]
  },
  {
   "cell_type": "markdown",
   "id": "8afeb33e",
   "metadata": {},
   "source": [
    "### List comprehension"
   ]
  },
  {
   "cell_type": "markdown",
   "id": "3e60afc7",
   "metadata": {},
   "source": [
    "### using list comprehension store all the even numbers from 1 to 100 in a list"
   ]
  },
  {
   "cell_type": "code",
   "execution_count": 174,
   "id": "2078a3e3",
   "metadata": {},
   "outputs": [
    {
     "data": {
      "text/plain": [
       "[2,\n",
       " 4,\n",
       " 6,\n",
       " 8,\n",
       " 10,\n",
       " 12,\n",
       " 14,\n",
       " 16,\n",
       " 18,\n",
       " 20,\n",
       " 22,\n",
       " 24,\n",
       " 26,\n",
       " 28,\n",
       " 30,\n",
       " 32,\n",
       " 34,\n",
       " 36,\n",
       " 38,\n",
       " 40,\n",
       " 42,\n",
       " 44,\n",
       " 46,\n",
       " 48,\n",
       " 50,\n",
       " 52,\n",
       " 54,\n",
       " 56,\n",
       " 58,\n",
       " 60,\n",
       " 62,\n",
       " 64,\n",
       " 66,\n",
       " 68,\n",
       " 70,\n",
       " 72,\n",
       " 74,\n",
       " 76,\n",
       " 78,\n",
       " 80,\n",
       " 82,\n",
       " 84,\n",
       " 86,\n",
       " 88,\n",
       " 90,\n",
       " 92,\n",
       " 94,\n",
       " 96,\n",
       " 98,\n",
       " 100]"
      ]
     },
     "execution_count": 174,
     "metadata": {},
     "output_type": "execute_result"
    }
   ],
   "source": [
    "a=[x for x in range(1,101) if x%2==0]\n",
    "a"
   ]
  },
  {
   "cell_type": "markdown",
   "id": "3d3e59ee",
   "metadata": {},
   "source": [
    "### using list comprehension store all Leap year from 1900 to 2030 in a list"
   ]
  },
  {
   "cell_type": "code",
   "execution_count": 177,
   "id": "b121e4da",
   "metadata": {},
   "outputs": [
    {
     "data": {
      "text/plain": [
       "[1904,\n",
       " 1908,\n",
       " 1912,\n",
       " 1916,\n",
       " 1920,\n",
       " 1924,\n",
       " 1928,\n",
       " 1932,\n",
       " 1936,\n",
       " 1940,\n",
       " 1944,\n",
       " 1948,\n",
       " 1952,\n",
       " 1956,\n",
       " 1960,\n",
       " 1964,\n",
       " 1968,\n",
       " 1972,\n",
       " 1976,\n",
       " 1980,\n",
       " 1984,\n",
       " 1988,\n",
       " 1992,\n",
       " 1996,\n",
       " 2000,\n",
       " 2004,\n",
       " 2008,\n",
       " 2012,\n",
       " 2016,\n",
       " 2020,\n",
       " 2024,\n",
       " 2028]"
      ]
     },
     "execution_count": 177,
     "metadata": {},
     "output_type": "execute_result"
    }
   ],
   "source": [
    "b=[i for i in range(1900,2031) if (i%4==0 and i%100!=0) or (i%400==0)]\n",
    "b"
   ]
  },
  {
   "cell_type": "markdown",
   "id": "d72fc2d1",
   "metadata": {},
   "source": [
    "### using list comprehension, store cubes of natural number from 1-20 in a list\n",
    "\n"
   ]
  },
  {
   "cell_type": "code",
   "execution_count": 179,
   "id": "09baeb5d",
   "metadata": {},
   "outputs": [
    {
     "data": {
      "text/plain": [
       "[1,\n",
       " 8,\n",
       " 27,\n",
       " 64,\n",
       " 125,\n",
       " 216,\n",
       " 343,\n",
       " 512,\n",
       " 729,\n",
       " 1000,\n",
       " 1331,\n",
       " 1728,\n",
       " 2197,\n",
       " 2744,\n",
       " 3375,\n",
       " 4096,\n",
       " 4913,\n",
       " 5832,\n",
       " 6859,\n",
       " 8000]"
      ]
     },
     "execution_count": 179,
     "metadata": {},
     "output_type": "execute_result"
    }
   ],
   "source": [
    "c=[i**3 for i in range(1,21)]\n",
    "c"
   ]
  },
  {
   "cell_type": "markdown",
   "id": "3932905e",
   "metadata": {},
   "source": [
    "### library = [('book1',2002),('book2',2012),('book3',2007),('book4',2015),('book5',2005),('book6',2018)]  Given a list lib, using list comprehension store all the books that was published after 2010\n",
    "\n",
    "\n"
   ]
  },
  {
   "cell_type": "code",
   "execution_count": 181,
   "id": "8c236b89",
   "metadata": {},
   "outputs": [
    {
     "data": {
      "text/plain": [
       "['book2', 'book4', 'book6']"
      ]
     },
     "execution_count": 181,
     "metadata": {},
     "output_type": "execute_result"
    }
   ],
   "source": [
    "library = [('book1',2002),('book2',2012),('book3',2007),('book4',2015),('book5',2005),('book6',2018)] \n",
    "\n",
    "lib=[book for (book,year) in library if year>2010]\n",
    "lib"
   ]
  },
  {
   "cell_type": "markdown",
   "id": "d726a840",
   "metadata": {},
   "source": [
    "### grammar = ['is','not','am','are','do','did','no','will','never','shall','none','was','nor'] Given a list grammar, using list comprehension, filter all the negative words that starts with 'n'\n",
    "\n"
   ]
  },
  {
   "cell_type": "code",
   "execution_count": 189,
   "id": "6f135236",
   "metadata": {},
   "outputs": [
    {
     "data": {
      "text/plain": [
       "['not', 'no', 'never', 'none', 'nor']"
      ]
     },
     "execution_count": 189,
     "metadata": {},
     "output_type": "execute_result"
    }
   ],
   "source": [
    "grammar = ['is','not','am','are','do','did','no','will','never','shall','none','was','nor']\n",
    "a=[x for x in grammar if x.startswith('n')]\n",
    "a"
   ]
  },
  {
   "cell_type": "code",
   "execution_count": 193,
   "id": "1f2c0045",
   "metadata": {},
   "outputs": [
    {
     "data": {
      "text/plain": [
       "[(1, 'a'),\n",
       " (1, 'b'),\n",
       " (1, 'c'),\n",
       " (2, 'a'),\n",
       " (2, 'b'),\n",
       " (2, 'c'),\n",
       " (3, 'a'),\n",
       " (3, 'b'),\n",
       " (3, 'c')]"
      ]
     },
     "execution_count": 193,
     "metadata": {},
     "output_type": "execute_result"
    }
   ],
   "source": [
    "x= [1,2,3]\n",
    "\n",
    "y=['a','b','c']\n",
    "\n",
    "\n",
    "\n",
    "#Given two list x and, using list comprehension take the cross product of x and y-:\n",
    "cp=[(a,b) for a in x for b in y]\n",
    "cp"
   ]
  },
  {
   "cell_type": "code",
   "execution_count": null,
   "id": "91f1a216",
   "metadata": {},
   "outputs": [],
   "source": [
    "print the following start parttern-:\n",
    "\n",
    "start parttern 1\n",
    "\n",
    "*\n",
    "\n",
    "**\n",
    "\n",
    "***\n",
    "\n",
    "****\n"
   ]
  },
  {
   "cell_type": "code",
   "execution_count": 194,
   "id": "4e37cb48",
   "metadata": {},
   "outputs": [
    {
     "name": "stdout",
     "output_type": "stream",
     "text": [
      "enter any no. 5\n",
      "*\n",
      "**\n",
      "***\n",
      "****\n",
      "*****\n"
     ]
    }
   ],
   "source": [
    "n=int(input(\"enter any no. \"))\n",
    "for i in range(1,n+1):\n",
    "    for j in range(i):\n",
    "        print(\"*\",end=\"\")\n",
    "    print()"
   ]
  },
  {
   "cell_type": "code",
   "execution_count": null,
   "id": "e5fd3529",
   "metadata": {},
   "outputs": [],
   "source": [
    "start parttern 2\n",
    "\n",
    "****\n",
    "\n",
    "***\n",
    "\n",
    "**\n",
    "\n",
    "*\n"
   ]
  },
  {
   "cell_type": "code",
   "execution_count": 195,
   "id": "78cab2e3",
   "metadata": {},
   "outputs": [
    {
     "name": "stdout",
     "output_type": "stream",
     "text": [
      "enter any no. 5\n",
      "*****\n",
      "****\n",
      "***\n",
      "**\n",
      "*\n"
     ]
    }
   ],
   "source": [
    "n=int(input(\"enter any no. \"))\n",
    "for i in range(n,0,-1):\n",
    "    for j in range(i):\n",
    "        print(\"*\",end=\"\")\n",
    "    print()"
   ]
  },
  {
   "cell_type": "code",
   "execution_count": null,
   "id": "8be941e8",
   "metadata": {},
   "outputs": [],
   "source": [
    "start parttern 3\n",
    "\n",
    "*\n",
    "\n",
    "**\n",
    "\n",
    "***\n",
    "\n",
    "****\n",
    "\n",
    "***\n",
    "\n",
    "**\n",
    "\n",
    "*"
   ]
  },
  {
   "cell_type": "code",
   "execution_count": 197,
   "id": "5f1dd58a",
   "metadata": {},
   "outputs": [
    {
     "name": "stdout",
     "output_type": "stream",
     "text": [
      "enter any no. 4\n",
      "*\n",
      "**\n",
      "***\n",
      "****\n",
      "***\n",
      "**\n",
      "*\n"
     ]
    }
   ],
   "source": [
    "n=int(input(\"enter any no. \"))\n",
    "for i in range(1,n+1):\n",
    "    for j in range(i):\n",
    "        print(\"*\",end=\"\")\n",
    "    print()\n",
    "for i in range(n-1,0,-1):\n",
    "    for j in range(i):\n",
    "        print(\"*\",end=\"\")\n",
    "    print()"
   ]
  },
  {
   "cell_type": "markdown",
   "id": "66824c7d",
   "metadata": {},
   "source": [
    "### Functions"
   ]
  },
  {
   "cell_type": "markdown",
   "id": "4ea4d6bb",
   "metadata": {},
   "source": [
    "### Create a function to calculate the the area of triangle"
   ]
  },
  {
   "cell_type": "code",
   "execution_count": 200,
   "id": "35e633b6",
   "metadata": {},
   "outputs": [
    {
     "name": "stdout",
     "output_type": "stream",
     "text": [
      "7.5\n",
      "24.32\n"
     ]
    }
   ],
   "source": [
    "def area_of_tringle(b,h):\n",
    "    return 0.5*b*h\n",
    "a=area_of_tringle(5,3)\n",
    "print(a)\n",
    "b=area_of_tringle(6.4,7.6)\n",
    "print(b)"
   ]
  },
  {
   "cell_type": "markdown",
   "id": "2193e9e6",
   "metadata": {},
   "source": [
    "### Create a function that calculates the the volume of sphere"
   ]
  },
  {
   "cell_type": "code",
   "execution_count": 203,
   "id": "5a5145a0",
   "metadata": {},
   "outputs": [
    {
     "name": "stdout",
     "output_type": "stream",
     "text": [
      "523.3333333333334\n",
      "381.51\n"
     ]
    }
   ],
   "source": [
    "def volume_of_sphere(r):\n",
    "    return (4/3)*3.14*(r**3)\n",
    "a=volume_of_sphere(5)\n",
    "print(a)\n",
    "b=volume_of_sphere(4.5)\n",
    "print(b)"
   ]
  },
  {
   "cell_type": "markdown",
   "id": "57fd5ce6",
   "metadata": {},
   "source": [
    "### WAP  to create function of prime no"
   ]
  },
  {
   "cell_type": "code",
   "execution_count": 211,
   "id": "d481ac93",
   "metadata": {},
   "outputs": [
    {
     "name": "stdout",
     "output_type": "stream",
     "text": [
      "7 is prime no\n",
      "8 is not prime no.\n"
     ]
    }
   ],
   "source": [
    "def prime(n):\n",
    "    if n==1:\n",
    "        print(\"nor prime not composite\")\n",
    "    elif n>=2:\n",
    "        count=0\n",
    "        for i in range(2,n):\n",
    "            if n%i==0:\n",
    "                count+=1\n",
    "                break\n",
    "        if count==0:\n",
    "            print( n,\"is prime no\")\n",
    "        else:\n",
    "            print (n,\"is not prime no.\")\n",
    "prime(7)\n",
    "prime(8)"
   ]
  },
  {
   "cell_type": "markdown",
   "id": "73101d14",
   "metadata": {},
   "source": [
    "### WAP to create a function of perfect number\n"
   ]
  },
  {
   "cell_type": "code",
   "execution_count": 221,
   "id": "cb1496c6",
   "metadata": {},
   "outputs": [
    {
     "name": "stdout",
     "output_type": "stream",
     "text": [
      "6 is perfect no.\n",
      "7 is not perfect no.\n",
      "24 is not perfect no.\n",
      "28 is perfect no.\n"
     ]
    }
   ],
   "source": [
    "# perfect no.===> sum of diviser is equl to the original no\n",
    "#n=int(input(\"enter any no. \"))\n",
    "def perfect(n):\n",
    "    i=1\n",
    "    sum=0\n",
    "    while i<n:\n",
    "        if n%i==0:\n",
    "            sum=sum+i\n",
    "        i+=1\n",
    "    if n==sum:\n",
    "        print(n,\"is perfect no.\")\n",
    "    else:\n",
    "        print(n,\"is not perfect no.\")\n",
    "perfect(6)\n",
    "perfect(7)\n",
    "perfect(24)\n",
    "perfect(28)"
   ]
  },
  {
   "cell_type": "markdown",
   "id": "5a16fec2",
   "metadata": {},
   "source": [
    "### WAP to create a function of neon number"
   ]
  },
  {
   "cell_type": "code",
   "execution_count": 231,
   "id": "1cf1bcdd",
   "metadata": {},
   "outputs": [
    {
     "name": "stdout",
     "output_type": "stream",
     "text": [
      "45 is not perfect no.\n",
      "121 is not perfect no.\n",
      "9 is perfect no.\n"
     ]
    }
   ],
   "source": [
    "# neon no. ==> square of sum of digits is equal to original digit\n",
    "def neon(n):\n",
    "    i=0\n",
    "    res=0\n",
    "    temp=n\n",
    "    n=n*n\n",
    "    while n>0:\n",
    "        rem=n%10\n",
    "        res=res+rem\n",
    "        n=n//10\n",
    "    if temp==res:\n",
    "        print(temp,'is perfect no.')\n",
    "    else:\n",
    "        print(temp,'is not perfect no.')\n",
    "neon(45)\n",
    "neon(121)\n",
    "neon(9)"
   ]
  },
  {
   "cell_type": "markdown",
   "id": "a44dbc3a",
   "metadata": {},
   "source": [
    "### WAP for factorial using recurrsion"
   ]
  },
  {
   "cell_type": "code",
   "execution_count": 238,
   "id": "7ac527e0",
   "metadata": {},
   "outputs": [
    {
     "name": "stdout",
     "output_type": "stream",
     "text": [
      "120\n",
      "24\n"
     ]
    }
   ],
   "source": [
    "#n=int(input(\"enter any no.\"))\n",
    "def factorial(n):\n",
    "    \n",
    "    if n==1:\n",
    "        return 1\n",
    "    else:\n",
    "        return n*factorial(n-1)\n",
    "        \n",
    "a=factorial(5)\n",
    "print(a)\n",
    "b=factorial(4)\n",
    "print(b)"
   ]
  },
  {
   "cell_type": "code",
   "execution_count": null,
   "id": "e33bd401",
   "metadata": {},
   "outputs": [],
   "source": [
    "Q.Item with highest value count\n",
    "\n",
    "items = [{'apple': 5}, {'banana': 8}, {'orange': 7}, {'grapes': 4}]\n"
   ]
  },
  {
   "cell_type": "code",
   "execution_count": 258,
   "id": "be0a07d0",
   "metadata": {},
   "outputs": [
    {
     "name": "stdout",
     "output_type": "stream",
     "text": [
      "apple\n",
      "banana\n",
      "orange\n",
      "grapes\n"
     ]
    }
   ],
   "source": [
    "items = [{'apple': 5}, {'banana': 8}, {'orange': 7}, {'grapes': 4}]\n",
    "for i in items:\n",
    "    item[0]\n",
    "    a=max(i,key=i.get)\n",
    "    \n",
    "    print(a)\n",
    "    "
   ]
  },
  {
   "cell_type": "code",
   "execution_count": null,
   "id": "68b0aef3",
   "metadata": {},
   "outputs": [],
   "source": []
  }
 ],
 "metadata": {
  "kernelspec": {
   "display_name": "Python 3",
   "language": "python",
   "name": "python3"
  },
  "language_info": {
   "codemirror_mode": {
    "name": "ipython",
    "version": 3
   },
   "file_extension": ".py",
   "mimetype": "text/x-python",
   "name": "python",
   "nbconvert_exporter": "python",
   "pygments_lexer": "ipython3",
   "version": "3.8.8"
  }
 },
 "nbformat": 4,
 "nbformat_minor": 5
}
