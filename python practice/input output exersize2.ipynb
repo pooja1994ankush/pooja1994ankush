{
 "cells": [
  {
   "cell_type": "markdown",
   "id": "ac634827",
   "metadata": {},
   "source": [
    "### Display three string \"Name\" ,\"Is\" ,\"James\" as \"Name ** Is**James\""
   ]
  },
  {
   "cell_type": "code",
   "execution_count": 2,
   "id": "bb257bc1",
   "metadata": {},
   "outputs": [
    {
     "name": "stdout",
     "output_type": "stream",
     "text": [
      "Name**Is**James\n"
     ]
    }
   ],
   "source": [
    "a=\"Name\"\n",
    "b=\"Is\"\n",
    "c=\"James\"\n",
    "print(a,b,c,sep=\"**\")"
   ]
  },
  {
   "cell_type": "markdown",
   "id": "d74fac6e",
   "metadata": {},
   "source": [
    "### Convert Decimal number to octal using print() output formatting"
   ]
  },
  {
   "cell_type": "code",
   "execution_count": 11,
   "id": "30ed5389",
   "metadata": {},
   "outputs": [
    {
     "name": "stdout",
     "output_type": "stream",
     "text": [
      "0o10\n",
      "10\n"
     ]
    }
   ],
   "source": [
    "a=8\n",
    "print(oct(a))\n",
    "print('%o'%a)"
   ]
  },
  {
   "cell_type": "markdown",
   "id": "b8d38c3b",
   "metadata": {},
   "source": [
    "### display the float number with 2 decimal places using print()"
   ]
  },
  {
   "cell_type": "code",
   "execution_count": 18,
   "id": "80f5e025",
   "metadata": {},
   "outputs": [
    {
     "name": "stdout",
     "output_type": "stream",
     "text": [
      "2345.11\n"
     ]
    }
   ],
   "source": [
    "b=2345.10987\n",
    "print('%.2f'%b)"
   ]
  },
  {
   "cell_type": "markdown",
   "id": "d13c91de",
   "metadata": {},
   "source": [
    "### Accept a list of 5 float numbers as an input from the user "
   ]
  },
  {
   "cell_type": "code",
   "execution_count": 20,
   "id": "4d9fc51e",
   "metadata": {},
   "outputs": [
    {
     "name": "stdout",
     "output_type": "stream",
     "text": [
      "enter a number = 12.5\n",
      "enter a number = 23.6\n",
      "enter a number = 65.2\n",
      "enter a number = 95.3\n",
      "enter a number = 62.5\n",
      "[12.5, 23.6, 65.2, 95.3, 62.5]\n"
     ]
    }
   ],
   "source": [
    "lst=[]\n",
    "for i in range(5):\n",
    "    n=float(input(\"enter a number = \"))\n",
    "    lst.append(n)\n",
    "print(lst)    "
   ]
  },
  {
   "cell_type": "markdown",
   "id": "1fe3e415",
   "metadata": {},
   "source": [
    "### Write  all content of given file into a new file by skipping line number 5."
   ]
  },
  {
   "cell_type": "code",
   "execution_count": 22,
   "id": "425e9c9d",
   "metadata": {},
   "outputs": [],
   "source": [
    "fp=open('text.txt','r')\n",
    "x=fp.readlines()\n",
    "fp1=open('text1.txt','w')\n",
    "count=0\n",
    "for line in x:\n",
    "    if count==4:\n",
    "        count+=1\n",
    "        continue\n",
    "    else:  \n",
    "        fp1.write(line)\n",
    "        \n",
    "    count+=1   \n",
    "fp.close()\n",
    "fp1.close()"
   ]
  },
  {
   "cell_type": "code",
   "execution_count": null,
   "id": "3086cbcb",
   "metadata": {},
   "outputs": [],
   "source": []
  }
 ],
 "metadata": {
  "kernelspec": {
   "display_name": "Python 3",
   "language": "python",
   "name": "python3"
  },
  "language_info": {
   "codemirror_mode": {
    "name": "ipython",
    "version": 3
   },
   "file_extension": ".py",
   "mimetype": "text/x-python",
   "name": "python",
   "nbconvert_exporter": "python",
   "pygments_lexer": "ipython3",
   "version": "3.8.8"
  }
 },
 "nbformat": 4,
 "nbformat_minor": 5
}
