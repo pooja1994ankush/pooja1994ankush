{
 "cells": [
  {
   "cell_type": "markdown",
   "id": "3431a407",
   "metadata": {},
   "source": [
    "### Count all letters, digits, and special symbols from a given string"
   ]
  },
  {
   "cell_type": "code",
   "execution_count": 28,
   "id": "c6aff1e0",
   "metadata": {},
   "outputs": [
    {
     "name": "stdout",
     "output_type": "stream",
     "text": [
      "count_of_alphabetes:-8\n",
      "count_of_digits:-     3\n",
      "count_of_symbols:-    4\n"
     ]
    }
   ],
   "source": [
    "b=\"P@#yn26at^&i5ve\"\n",
    "def count(str1):\n",
    "    counta=0\n",
    "    countd=0\n",
    "    counts=0\n",
    "    for i in  str1:\n",
    "        if i.isalpha():\n",
    "            \n",
    "            counta+=1\n",
    "        elif i.isnumeric():\n",
    "            \n",
    "            countd+=1\n",
    "        else:\n",
    "            \n",
    "            counts+=1\n",
    "    print(\"count_of_alphabetes:-{}\\ncount_of_digits:-     {}\\ncount_of_symbols:-    {}\".format(counta,countd,counts))\n",
    "a=count(b)\n"
   ]
  },
  {
   "cell_type": "code",
   "execution_count": 16,
   "id": "e0da8631",
   "metadata": {},
   "outputs": [
    {
     "name": "stdout",
     "output_type": "stream",
     "text": [
      "alphabeticals:-Pynative\n",
      "digits:-    265\n",
      "symbols:-   @#^&\n",
      "count_of_alphabeticals:-8\n",
      "count_of_digits:-     3\n",
      "count_of_symbols:-    4\n"
     ]
    }
   ],
   "source": [
    "str1=\"P@#yn26at^&i5ve\"\n",
    "alpha=\"\"\n",
    "digit=\"\"\n",
    "symbols=\"\"\n",
    "counta=0\n",
    "countd=0\n",
    "counts=0\n",
    "for i in range (len(str1)):\n",
    "    if str1[i].isalpha():\n",
    "        alpha=alpha+str1[i]\n",
    "        counta+=1\n",
    "    elif str1[i].isnumeric():\n",
    "        digit=digit+str1[i]\n",
    "        countd+=1\n",
    "    else:\n",
    "        symbols=symbols+str1[i]\n",
    "        counts+=1\n",
    "print(\"alphabeticals:-{}\\ndigits:-    {}\\nsymbols:-   {}\".format(alpha,digit,symbols)) \n",
    "print(\"count_of_alphabeticals:-{}\\ncount_of_digits:-     {}\\ncount_of_symbols:-    {}\".format(counta,countd,counts))"
   ]
  },
  {
   "cell_type": "markdown",
   "id": "8b70c773",
   "metadata": {},
   "source": [
    "### WAP to create new string s3 made of the first char of s1,then the last char of s2,Next ,the second char of s1 and second last char of s2,and so on.Any leftover chars go at the end of the result "
   ]
  },
  {
   "cell_type": "code",
   "execution_count": 32,
   "id": "1b7346ff",
   "metadata": {},
   "outputs": [
    {
     "name": "stdout",
     "output_type": "stream",
     "text": [
      "new_string:-  AzbycX\n"
     ]
    }
   ],
   "source": [
    "# Given\n",
    "s1=\"Abc\"\n",
    "s2=\"Xyz\"\n",
    "new_string=s1[0]+s2[-1]+s1[1]+s2[1]+s1[-1]+s2[0]\n",
    "print(\"new_string:- \",new_string)"
   ]
  },
  {
   "cell_type": "markdown",
   "id": "db1662a1",
   "metadata": {},
   "source": [
    "### WAP to check if two strings are balanced.for eg. string s1 and s2 are balanced if all the characters in the s1 are present in s2. The characters position doesn't matter."
   ]
  },
  {
   "cell_type": "code",
   "execution_count": 68,
   "id": "2e10d959",
   "metadata": {},
   "outputs": [
    {
     "name": "stdout",
     "output_type": "stream",
     "text": [
      "True\n",
      "False\n"
     ]
    }
   ],
   "source": [
    "# Given\n",
    "a=\"Yn\"\n",
    "b=\"PYnative\"\n",
    "c=\"Ynf\"\n",
    "def balanced(s1,s2):\n",
    "    flag=True\n",
    "    for i in s1:\n",
    "        if i in s2:\n",
    "            continue\n",
    "        else:\n",
    "            flag=False\n",
    "    return flag \n",
    "\n",
    "x=balanced(a,b)\n",
    "y=balanced(c,b)\n",
    "print(x)\n",
    "print(y)"
   ]
  },
  {
   "cell_type": "markdown",
   "id": "5cf4a634",
   "metadata": {},
   "source": [
    "### Write all occurences of a \"USA\" in a given string by ignoring the case"
   ]
  },
  {
   "cell_type": "code",
   "execution_count": 66,
   "id": "fa2b807d",
   "metadata": {},
   "outputs": [
    {
     "name": "stdout",
     "output_type": "stream",
     "text": [
      "all occurences of a USA:-  2\n"
     ]
    }
   ],
   "source": [
    "# given\n",
    "str1=\"Welcome to USA. usa awesome,isn't it?\"\n",
    "str2=\"USA\"\n",
    "str3=str1.lower()\n",
    "count=str3.count(str2.lower())\n",
    "\n",
    "print(\"all occurences of a USA:- \",count)        "
   ]
  },
  {
   "cell_type": "markdown",
   "id": "f8f0f2fc",
   "metadata": {},
   "source": [
    "### WAP to return the sum and average  of the digits that appear in the string, ignoring all the characters."
   ]
  },
  {
   "cell_type": "code",
   "execution_count": 76,
   "id": "25ec5e17",
   "metadata": {},
   "outputs": [
    {
     "name": "stdout",
     "output_type": "stream",
     "text": [
      "Sum of digits present in string:-  38\n",
      "Average of digits present in string:-  6.333333333333333\n"
     ]
    }
   ],
   "source": [
    "# Given\n",
    "str1=\"PYnative29@#8496\"\n",
    "count=0\n",
    "sum=0\n",
    "for i in range (len(str1)):\n",
    "    if str1[i].isnumeric():\n",
    "        sum=sum+int(str1[i])\n",
    "        count+=1\n",
    "average=sum/count        \n",
    "print(\"Sum of digits present in string:- \",sum)    \n",
    "print(\"Average of digits present in string:- \",average)"
   ]
  },
  {
   "cell_type": "code",
   "execution_count": null,
   "id": "2346e20c",
   "metadata": {},
   "outputs": [],
   "source": []
  }
 ],
 "metadata": {
  "kernelspec": {
   "display_name": "Python 3",
   "language": "python",
   "name": "python3"
  },
  "language_info": {
   "codemirror_mode": {
    "name": "ipython",
    "version": 3
   },
   "file_extension": ".py",
   "mimetype": "text/x-python",
   "name": "python",
   "nbconvert_exporter": "python",
   "pygments_lexer": "ipython3",
   "version": "3.8.8"
  }
 },
 "nbformat": 4,
 "nbformat_minor": 5
}
