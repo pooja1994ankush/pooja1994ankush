{
 "cells": [
  {
   "cell_type": "markdown",
   "id": "14cb8447",
   "metadata": {},
   "source": [
    "### Number triangle pattern"
   ]
  },
  {
   "cell_type": "code",
   "execution_count": null,
   "id": "a7c0016f",
   "metadata": {},
   "outputs": [],
   "source": [
    "        1 \n",
    "      1 2  \n",
    "    1 2 3 \n",
    "  1 2 3 4 \n",
    "1 2 3 4 5 "
   ]
  },
  {
   "cell_type": "code",
   "execution_count": 15,
   "id": "7dca1154",
   "metadata": {},
   "outputs": [
    {
     "name": "stdout",
     "output_type": "stream",
     "text": [
      "        1 \n",
      "      1 2 \n",
      "    1 2 3 \n",
      "  1 2 3 4 \n",
      "1 2 3 4 5 \n"
     ]
    }
   ],
   "source": [
    "for i in range(1,6):\n",
    "    for j in range(5,i,-1):\n",
    "        print(\" \",end=\" \")\n",
    "    for k in range(1,i+1):\n",
    "        print(k,end=\" \")\n",
    "    print()\n",
    "    \n",
    "        \n",
    "    "
   ]
  },
  {
   "cell_type": "markdown",
   "id": "0cb55375",
   "metadata": {},
   "source": [
    "### Pascal’s triangle pattern using numbers"
   ]
  },
  {
   "cell_type": "code",
   "execution_count": null,
   "id": "f10e4a5f",
   "metadata": {},
   "outputs": [],
   "source": [
    "      1 \n",
    "     1 1 \n",
    "    1 2 1 \n",
    "   1 3 3 1 \n",
    "  1 4 6 4 1 \n",
    " 1 5 10 10 5 1 \n",
    "1 6 15 20 15 6 1"
   ]
  },
  {
   "cell_type": "code",
   "execution_count": 6,
   "id": "ad492a85",
   "metadata": {},
   "outputs": [
    {
     "name": "stdout",
     "output_type": "stream",
     "text": [
      "       1 \n",
      "      1 1 \n",
      "     1 2 1 \n",
      "    1 3 3 1 \n",
      "   1 4 6 4 1 \n",
      "  1 5 10 10 5 1 \n"
     ]
    }
   ],
   "source": [
    "from math import factorial\n",
    "n = 6\n",
    "for i in range(n):\n",
    "    for j in range(n-i+1):\n",
    " \n",
    "        # for left spacing\n",
    "        print(end=\" \")\n",
    " \n",
    "    for j in range(i+1):\n",
    " \n",
    "        # nCr = n!/((n-r)!*r!)\n",
    "        print(factorial(i)//(factorial(j)*factorial(i-j)), end=\" \")\n",
    " \n",
    "    # for new line\n",
    "    print()"
   ]
  },
  {
   "cell_type": "markdown",
   "id": "ab130206",
   "metadata": {},
   "source": [
    "### Square pattern with numbers"
   ]
  },
  {
   "cell_type": "code",
   "execution_count": null,
   "id": "db99bf8e",
   "metadata": {},
   "outputs": [],
   "source": [
    "1 2 3 4 5 \n",
    "2 2 3 4 5 \n",
    "3 3 3 4 5 \n",
    "4 4 4 4 5 \n",
    "5 5 5 5 5"
   ]
  },
  {
   "cell_type": "code",
   "execution_count": 7,
   "id": "2c9351e1",
   "metadata": {},
   "outputs": [
    {
     "name": "stdout",
     "output_type": "stream",
     "text": [
      "1 2 3 4 5 \n",
      "1 2 3 4 5 \n",
      "1 2 3 4 5 \n",
      "1 2 3 4 5 \n",
      "1 2 3 4 5 \n"
     ]
    }
   ],
   "source": [
    "for i in range(1,6):\n",
    "    for j in range(1,6):\n",
    "        print(j,end=\" \")\n",
    "    print()\n",
    "            "
   ]
  },
  {
   "cell_type": "markdown",
   "id": "9ad2634d",
   "metadata": {},
   "source": [
    "### Multiplication table pattern"
   ]
  },
  {
   "cell_type": "code",
   "execution_count": null,
   "id": "c6aca0ef",
   "metadata": {},
   "outputs": [],
   "source": [
    "1  \n",
    "2  4  \n",
    "3  6  9  \n",
    "4  8  12  16  \n",
    "5  10  15  20  25  \n",
    "6  12  18  24  30  36  \n",
    "7  14  21  28  35  42  49  \n",
    "8  16  24  32  40  48  56  64  "
   ]
  },
  {
   "cell_type": "code",
   "execution_count": 8,
   "id": "70f8f755",
   "metadata": {},
   "outputs": [
    {
     "name": "stdout",
     "output_type": "stream",
     "text": [
      "1 \n",
      "2 4 \n",
      "3 6 9 \n",
      "4 8 12 16 \n",
      "5 10 15 20 25 \n",
      "6 12 18 24 30 36 \n",
      "7 14 21 28 35 42 49 \n",
      "8 16 24 32 40 48 56 64 \n"
     ]
    }
   ],
   "source": [
    "n=8\n",
    "for i in range(1,n+1):\n",
    "    for j in range(1,i+1):\n",
    "        print(i*j,end=\" \")\n",
    "    print()"
   ]
  },
  {
   "cell_type": "markdown",
   "id": "6ad34bea",
   "metadata": {},
   "source": [
    "### Downward half-Pyramid Pattern of Star"
   ]
  },
  {
   "cell_type": "code",
   "execution_count": null,
   "id": "198f391a",
   "metadata": {},
   "outputs": [],
   "source": [
    "* * * * *  \n",
    "* * * *  \n",
    "* * *  \n",
    "* *  \n",
    "*"
   ]
  },
  {
   "cell_type": "code",
   "execution_count": 9,
   "id": "5964ea59",
   "metadata": {},
   "outputs": [
    {
     "name": "stdout",
     "output_type": "stream",
     "text": [
      "* * * * * \n",
      "* * * * \n",
      "* * * \n",
      "* * \n",
      "* \n"
     ]
    }
   ],
   "source": [
    "n=5\n",
    "for i in range(n,0,-1):\n",
    "    for j in range(i):\n",
    "        print(\"*\",end=\" \")\n",
    "    print()"
   ]
  },
  {
   "cell_type": "markdown",
   "id": "d47d8d79",
   "metadata": {},
   "source": [
    "### Print two pyramids of stars"
   ]
  },
  {
   "cell_type": "code",
   "execution_count": null,
   "id": "cff5811b",
   "metadata": {},
   "outputs": [],
   "source": [
    "*  \n",
    "* *  \n",
    "* * *  \n",
    "* * * *  \n",
    "* * * * *  \n",
    "* * * * * *  \n",
    " \n",
    "* * * * * *  \n",
    "* * * * *  \n",
    "* * * *  \n",
    "* * *  \n",
    "* *  \n",
    "*  \n"
   ]
  },
  {
   "cell_type": "code",
   "execution_count": 10,
   "id": "c94e7820",
   "metadata": {},
   "outputs": [
    {
     "name": "stdout",
     "output_type": "stream",
     "text": [
      "* \n",
      "* * \n",
      "* * * \n",
      "* * * * \n",
      "* * * * * \n",
      "* * * * * * \n",
      "\n",
      "* * * * * * \n",
      "* * * * * \n",
      "* * * * \n",
      "* * * \n",
      "* * \n",
      "* \n"
     ]
    }
   ],
   "source": [
    "n=6\n",
    "for i in range(1,n+1):\n",
    "    for j in range(i):\n",
    "        print(\"*\",end=\" \")\n",
    "    print()   \n",
    "print()\n",
    "for i in range(n,0,-1):\n",
    "    for j in range(i):\n",
    "        print(\"*\",end=\" \")\n",
    "    print()    "
   ]
  },
  {
   "cell_type": "markdown",
   "id": "6428fa02",
   "metadata": {},
   "source": [
    "### Right start pattern of star or right pascal triangle"
   ]
  },
  {
   "cell_type": "code",
   "execution_count": null,
   "id": "b954782b",
   "metadata": {},
   "outputs": [],
   "source": [
    "* \n",
    "* * \n",
    "* * * \n",
    "* * * * \n",
    "* * * * * \n",
    "* * * * \n",
    "* * * \n",
    "* * \n",
    "* "
   ]
  },
  {
   "cell_type": "code",
   "execution_count": 11,
   "id": "f2b6cedd",
   "metadata": {},
   "outputs": [
    {
     "name": "stdout",
     "output_type": "stream",
     "text": [
      "* \n",
      "* * \n",
      "* * * \n",
      "* * * * \n",
      "* * * * * \n",
      "* * * * \n",
      "* * * \n",
      "* * \n",
      "* \n"
     ]
    }
   ],
   "source": [
    "n=5\n",
    "for i in range(1,n+1):\n",
    "    for j in range(i):\n",
    "        print(\"*\",end=\" \")\n",
    "    print()  \n",
    "for i in range(n-1,0,-1):\n",
    "    for j in range(i):\n",
    "        print(\"*\",end=\" \")\n",
    "    print()"
   ]
  },
  {
   "cell_type": "markdown",
   "id": "a7e5dc4f",
   "metadata": {},
   "source": [
    "### leftt pascal triangle"
   ]
  },
  {
   "cell_type": "code",
   "execution_count": null,
   "id": "e92ba59b",
   "metadata": {},
   "outputs": [],
   "source": [
    "        * \n",
    "      * * \n",
    "    * * * \n",
    "  * * * * \n",
    "* * * * * \n",
    "  * * * * \n",
    "    * * * \n",
    "      * * \n",
    "        *"
   ]
  },
  {
   "cell_type": "code",
   "execution_count": 14,
   "id": "6f2801b9",
   "metadata": {},
   "outputs": [
    {
     "name": "stdout",
     "output_type": "stream",
     "text": [
      "        * \n",
      "      * * \n",
      "    * * * \n",
      "  * * * * \n",
      "* * * * * \n",
      "  * * * * \n",
      "    * * * \n",
      "      * * \n",
      "        * \n"
     ]
    }
   ],
   "source": [
    "\n",
    "n=5\n",
    "for i in range(1,n+1):\n",
    "    for j in range(n-i):\n",
    "        print(\" \",end=\" \")\n",
    "    for j in range(i):\n",
    "        print(\"*\",end=\" \")\n",
    "    print()\n",
    "for i in range(n-1,0,-1):\n",
    "    for j in range(n-i):\n",
    "        print(\" \",end=\" \")\n",
    "    for k in range(i):\n",
    "        print(\"*\",end=\" \")\n",
    "    print()"
   ]
  },
  {
   "cell_type": "markdown",
   "id": "0b1d2b7d",
   "metadata": {},
   "source": [
    "### Diamond-shaped pattern of stars"
   ]
  },
  {
   "cell_type": "code",
   "execution_count": null,
   "id": "5a32d730",
   "metadata": {},
   "outputs": [],
   "source": [
    "        * \n",
    "       * * \n",
    "      * * * \n",
    "     * * * * \n",
    "    * * * * * \n",
    "   * * * * * * \n",
    "    * * * * * \n",
    "     * * * * \n",
    "      * * * \n",
    "       * * \n",
    "        * "
   ]
  },
  {
   "cell_type": "code",
   "execution_count": 13,
   "id": "dc323b0b",
   "metadata": {},
   "outputs": [
    {
     "name": "stdout",
     "output_type": "stream",
     "text": [
      "    * \n",
      "   * * \n",
      "  * * * \n",
      " * * * * \n",
      "* * * * * \n",
      " * * * * \n",
      "  * * * \n",
      "   * * \n",
      "    * \n"
     ]
    }
   ],
   "source": [
    "n=5\n",
    "for i in range (1,n+1):\n",
    "    for j in range(n-i):\n",
    "        print(\" \",end=\"\")\n",
    "    for j in range(i):\n",
    "        print(\"*\",end=\" \")\n",
    "    print()\n",
    "for i in range(n-1,0,-1): \n",
    "    for j in range(n-i):\n",
    "        print(\" \",end=\"\")\n",
    "    for k in range(i):\n",
    "        print(\"*\",end=\" \")\n",
    "    print()\n",
    "    "
   ]
  },
  {
   "cell_type": "markdown",
   "id": "69915abd",
   "metadata": {},
   "source": [
    "### Another diamond pattern of star"
   ]
  },
  {
   "cell_type": "code",
   "execution_count": null,
   "id": "29ad6398",
   "metadata": {},
   "outputs": [],
   "source": [
    "    *\n",
    "   * *\n",
    "  *   *\n",
    " *     *\n",
    "*       *\n",
    " *     *\n",
    "  *   *\n",
    "   * *\n",
    "    *"
   ]
  },
  {
   "cell_type": "code",
   "execution_count": 19,
   "id": "bf54ea4b",
   "metadata": {},
   "outputs": [
    {
     "name": "stdout",
     "output_type": "stream",
     "text": [
      "     * * \n",
      "    * * \n",
      "   *   * \n",
      "  *     * \n",
      " *       * \n",
      "*         * \n",
      " *        *\n",
      "  *      *\n",
      "   *    *\n",
      "    *  *\n",
      "     **\n"
     ]
    }
   ],
   "source": [
    "n=5\n",
    "\n",
    "for i in range(0,n+1):\n",
    "    for j in range(n-i):\n",
    "        print(\" \",end=\"\")\n",
    "    for j in range(1):\n",
    "        print(\"*\",end=\" \")\n",
    "    for j in range(0,i-1):\n",
    "        print(\" \",end=\" \")\n",
    "    for j in range(1):\n",
    "        print(\"*\",end=\" \")\n",
    "    print()\n",
    "for i in range(n-1,-1,-1):\n",
    "    for j in range(n-i):\n",
    "        print(\" \",end=\"\")\n",
    "    for j in range(1):\n",
    "        print(\"*\",end=\"\")\n",
    "    for j in range(i):\n",
    "        print(\" \",end=\" \")\n",
    "    for j in range(1):\n",
    "        print(\"*\",end=\"\")\n",
    "    print()"
   ]
  },
  {
   "cell_type": "code",
   "execution_count": null,
   "id": "dd5378a5",
   "metadata": {},
   "outputs": [],
   "source": []
  }
 ],
 "metadata": {
  "kernelspec": {
   "display_name": "Python 3",
   "language": "python",
   "name": "python3"
  },
  "language_info": {
   "codemirror_mode": {
    "name": "ipython",
    "version": 3
   },
   "file_extension": ".py",
   "mimetype": "text/x-python",
   "name": "python",
   "nbconvert_exporter": "python",
   "pygments_lexer": "ipython3",
   "version": "3.8.8"
  }
 },
 "nbformat": 4,
 "nbformat_minor": 5
}
