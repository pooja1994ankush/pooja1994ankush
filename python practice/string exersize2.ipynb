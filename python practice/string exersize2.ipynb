{
 "cells": [
  {
   "cell_type": "markdown",
   "id": "6958ae79",
   "metadata": {},
   "source": [
    "### WAP to count occurences of all characters within a string."
   ]
  },
  {
   "cell_type": "code",
   "execution_count": 21,
   "id": "d741f192",
   "metadata": {},
   "outputs": [
    {
     "name": "stdout",
     "output_type": "stream",
     "text": [
      "{'A': 1, 'p': 2, 'l': 1, 'e': 1}\n"
     ]
    }
   ],
   "source": [
    "str1=\"Apple\"\n",
    "char_count={}\n",
    "for i in str1:\n",
    "    count=str1.count(i)\n",
    "    char_count[i]=count\n",
    "print(char_count)"
   ]
  },
  {
   "cell_type": "markdown",
   "id": "f970594d",
   "metadata": {},
   "source": [
    "### Reverse a given string"
   ]
  },
  {
   "cell_type": "code",
   "execution_count": 37,
   "id": "b7d5d454",
   "metadata": {},
   "outputs": [
    {
     "name": "stdout",
     "output_type": "stream",
     "text": [
      "Reversed string:  evitanyP\n"
     ]
    }
   ],
   "source": [
    "# Given \n",
    "str1=\"Pynative\"\n",
    "str2=str1[::-1]\n",
    "print(\"Reversed string: \",str2)"
   ]
  },
  {
   "cell_type": "code",
   "execution_count": 70,
   "id": "6c1f4443",
   "metadata": {},
   "outputs": [
    {
     "name": "stdout",
     "output_type": "stream",
     "text": [
      "evitanyP\n"
     ]
    }
   ],
   "source": [
    "str1=\"Pynative\"\n",
    "str2=reversed(str1)\n",
    "print(\"\".join(str2))"
   ]
  },
  {
   "cell_type": "markdown",
   "id": "6178d7d6",
   "metadata": {},
   "source": [
    "### Find the last position of a given substring. WAP to find last position of substring \"Emma\" in a given string."
   ]
  },
  {
   "cell_type": "code",
   "execution_count": 47,
   "id": "b2653e6c",
   "metadata": {},
   "outputs": [],
   "source": [
    "# rfind() method finds the last occurence of the specified value."
   ]
  },
  {
   "cell_type": "code",
   "execution_count": 50,
   "id": "c85ce4f0",
   "metadata": {},
   "outputs": [
    {
     "name": "stdout",
     "output_type": "stream",
     "text": [
      "Last occurence of Emma stars at the index:  43\n"
     ]
    }
   ],
   "source": [
    "# Given\n",
    "str1=\"Emma is a data scientist who knows Python. Emma works at google.\"\n",
    "a=str1.rfind(\"Emma\")\n",
    "print(\"Last occurence of Emma stars at the index: \",a)"
   ]
  },
  {
   "cell_type": "markdown",
   "id": "bbede153",
   "metadata": {},
   "source": [
    "### WAP to split a given string on hypens and display each substring."
   ]
  },
  {
   "cell_type": "code",
   "execution_count": 56,
   "id": "b3dec24a",
   "metadata": {},
   "outputs": [
    {
     "name": "stdout",
     "output_type": "stream",
     "text": [
      "Displaying each substring: \n",
      "Emma\n",
      "is\n",
      "a\n",
      "data\n",
      "scientist\n"
     ]
    }
   ],
   "source": [
    "# Given\n",
    "str1=\"Emma-is-a-data-scientist\"\n",
    "str2=str1.split(\"-\")\n",
    "print(\"Displaying each substring: \")\n",
    "for i in str2:\n",
    "    print(i)"
   ]
  },
  {
   "cell_type": "markdown",
   "id": "6f0f0901",
   "metadata": {},
   "source": [
    "### Remove empty strings from a list of strings"
   ]
  },
  {
   "cell_type": "code",
   "execution_count": 60,
   "id": "20adcde2",
   "metadata": {},
   "outputs": [
    {
     "name": "stdout",
     "output_type": "stream",
     "text": [
      "['Emma', 'Jon', 'kelly', 'Eric']\n"
     ]
    }
   ],
   "source": [
    "str_list=[\"Emma\",\"Jon\",\"\",\"kelly\",None,\"Eric\",\"\"]\n",
    "for i in str_list:\n",
    "    if i==\"\" or i==None:\n",
    "        str_list.remove(i)\n",
    "print(str_list)        "
   ]
  },
  {
   "cell_type": "code",
   "execution_count": 71,
   "id": "14b59893",
   "metadata": {},
   "outputs": [
    {
     "name": "stdout",
     "output_type": "stream",
     "text": [
      "['Emma', 'Jon', 'kelly', 'Eric']\n"
     ]
    }
   ],
   "source": [
    "# using filter()\n",
    "new_list=list(filter(None,str_list))\n",
    "print(new_list)"
   ]
  },
  {
   "cell_type": "code",
   "execution_count": null,
   "id": "b1fe17bb",
   "metadata": {},
   "outputs": [],
   "source": []
  }
 ],
 "metadata": {
  "kernelspec": {
   "display_name": "Python 3",
   "language": "python",
   "name": "python3"
  },
  "language_info": {
   "codemirror_mode": {
    "name": "ipython",
    "version": 3
   },
   "file_extension": ".py",
   "mimetype": "text/x-python",
   "name": "python",
   "nbconvert_exporter": "python",
   "pygments_lexer": "ipython3",
   "version": "3.8.8"
  }
 },
 "nbformat": 4,
 "nbformat_minor": 5
}
