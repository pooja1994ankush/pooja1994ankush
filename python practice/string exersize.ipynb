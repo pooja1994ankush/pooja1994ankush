{
 "cells": [
  {
   "cell_type": "markdown",
   "id": "5b09b43d",
   "metadata": {},
   "source": [
    "### Write a program to create a new string made of an input strings first,middle, and last"
   ]
  },
  {
   "cell_type": "code",
   "execution_count": 37,
   "id": "776a0058",
   "metadata": {},
   "outputs": [
    {
     "name": "stdout",
     "output_type": "stream",
     "text": [
      "new string =  Jms\n"
     ]
    }
   ],
   "source": [
    "str1=\"James\"\n",
    "a=str1[0]\n",
    "x=len(str1)/2\n",
    "x=int(x)\n",
    "b=str1[x]\n",
    "c=str1[-1]\n",
    "new_string=a+b+c\n",
    "print(\"new string = \",new_string)\n",
    "   "
   ]
  },
  {
   "cell_type": "markdown",
   "id": "61604995",
   "metadata": {},
   "source": [
    "### Create a string made of the middle three characters of an input string"
   ]
  },
  {
   "cell_type": "code",
   "execution_count": 46,
   "id": "4668c458",
   "metadata": {},
   "outputs": [
    {
     "name": "stdout",
     "output_type": "stream",
     "text": [
      "middle three chars of JhonDipPeta are:-  Dip\n",
      "middle three chars of JaSonAy are:-  Son\n"
     ]
    }
   ],
   "source": [
    "# given\n",
    "string1=\"JhonDipPeta\"\n",
    "string2=\"JaSonAy\"\n",
    "def new_string(str1):\n",
    "    x=len(str1)/2\n",
    "    a=int(x-1)\n",
    "    b=int(x)\n",
    "    c=int(x+1)\n",
    "    new_str=str1[a]+str1[b]+str1[c]\n",
    "    print(\"middle three chars of\",str1,\"are:- \",new_str)\n",
    "new_string(string1)\n",
    "new_string(string2)"
   ]
  },
  {
   "cell_type": "code",
   "execution_count": 47,
   "id": "02741060",
   "metadata": {},
   "outputs": [
    {
     "name": "stdout",
     "output_type": "stream",
     "text": [
      "middle three chars of JhonDipPeta are:-  Dip\n",
      "middle three chars of JaSonAy are:-  Son\n"
     ]
    }
   ],
   "source": [
    "# given\n",
    "string1=\"JhonDipPeta\"\n",
    "string2=\"JaSonAy\"\n",
    "def new_string(str1):\n",
    "    x=int(len(str1)/2)\n",
    "    new_str=str1[x-1:x+2]\n",
    "    print(\"middle three chars of\",str1,\"are:- \",new_str)\n",
    "new_string(string1)\n",
    "new_string(string2)"
   ]
  },
  {
   "cell_type": "markdown",
   "id": "432999ce",
   "metadata": {},
   "source": [
    "### Append new string in the middle of a given string"
   ]
  },
  {
   "cell_type": "markdown",
   "id": "c8113feb",
   "metadata": {},
   "source": [
    "### given two strings,s1 and s2.Write a program to create a new string s3 by appending s2 in the middle of s1."
   ]
  },
  {
   "cell_type": "code",
   "execution_count": 56,
   "id": "25916ae0",
   "metadata": {},
   "outputs": [
    {
     "name": "stdout",
     "output_type": "stream",
     "text": [
      "AuKellylt\n"
     ]
    }
   ],
   "source": [
    "# Given\n",
    "s1=\"Ault\"\n",
    "s2=\"Kelly\"\n",
    "s3=s1[0:int(len(s1)/2)]+s2+s1[int(len(s1)/2):]\n",
    "print(s3)"
   ]
  },
  {
   "cell_type": "markdown",
   "id": "b0e54731",
   "metadata": {},
   "source": [
    "### Given two strings, s1 and s2 write a program to return a new string made of s1 and s2's first,middle and last characters."
   ]
  },
  {
   "cell_type": "code",
   "execution_count": 60,
   "id": "da228864",
   "metadata": {},
   "outputs": [
    {
     "name": "stdout",
     "output_type": "stream",
     "text": [
      "a new string made of s1 and s2's first,middle and last characters. :-  AJrpan\n"
     ]
    }
   ],
   "source": [
    "# given\n",
    "s1=\"America\"\n",
    "s2=\"Japan\"\n",
    "s1mi=int(len(s1)/2)\n",
    "s2mi=int(len(s2)/2)\n",
    "new_string=s1[0]+s2[0]+s1[s1mi]+s2[s2mi]+s1[-1]+s2[-1]\n",
    "print(\"a new string made of s1 and s2's first,middle and last characters. :- \",new_string)"
   ]
  },
  {
   "cell_type": "markdown",
   "id": "aea78f7e",
   "metadata": {},
   "source": [
    "### Write  a program to arrange the characters of a string so that all lowercase letters should come first"
   ]
  },
  {
   "cell_type": "code",
   "execution_count": 28,
   "id": "ffc04404",
   "metadata": {},
   "outputs": [
    {
     "name": "stdout",
     "output_type": "stream",
     "text": [
      "a string  that all lowercase letters  come first:-     yaivePNT\n"
     ]
    }
   ],
   "source": [
    "# given\n",
    "str1=\"PyNaTive\"\n",
    "str2=\"\"\n",
    "str3=\"\"\n",
    "for i in range (len(str1)):\n",
    "    if str1[i].islower():\n",
    "        str2=str2+str1[i]\n",
    "    else:\n",
    "        str3=str3+str1[i]\n",
    "\n",
    "new=str2+str3\n",
    "print(\"a string  that all lowercase letters  come first:-    \",new)"
   ]
  },
  {
   "cell_type": "markdown",
   "id": "5b4c7991",
   "metadata": {},
   "source": []
  }
 ],
 "metadata": {
  "kernelspec": {
   "display_name": "Python 3",
   "language": "python",
   "name": "python3"
  },
  "language_info": {
   "codemirror_mode": {
    "name": "ipython",
    "version": 3
   },
   "file_extension": ".py",
   "mimetype": "text/x-python",
   "name": "python",
   "nbconvert_exporter": "python",
   "pygments_lexer": "ipython3",
   "version": "3.8.8"
  }
 },
 "nbformat": 4,
 "nbformat_minor": 5
}
