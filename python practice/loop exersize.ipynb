{
 "cells": [
  {
   "cell_type": "markdown",
   "id": "b06075ff",
   "metadata": {},
   "source": [
    "### Print first 10 natural numbers using while loop"
   ]
  },
  {
   "cell_type": "code",
   "execution_count": 3,
   "id": "c5846962",
   "metadata": {},
   "outputs": [
    {
     "name": "stdout",
     "output_type": "stream",
     "text": [
      "1\n",
      "2\n",
      "3\n",
      "4\n",
      "5\n",
      "6\n",
      "7\n",
      "8\n",
      "9\n",
      "10\n"
     ]
    }
   ],
   "source": [
    "n=1\n",
    "while n<=10:\n",
    "    print(n)\n",
    "    n+=1"
   ]
  },
  {
   "cell_type": "markdown",
   "id": "76ddd5a9",
   "metadata": {},
   "source": [
    "### Print following pattern"
   ]
  },
  {
   "cell_type": "code",
   "execution_count": 10,
   "id": "0658b7a9",
   "metadata": {},
   "outputs": [
    {
     "name": "stdout",
     "output_type": "stream",
     "text": [
      "1\n",
      "12\n",
      "123\n",
      "1234\n",
      "12345\n"
     ]
    }
   ],
   "source": [
    "#1\n",
    "#12\n",
    "#123\n",
    "#1234\n",
    "#12345\n",
    "for i in range(1,6):\n",
    "    for j in range(1,i+1):\n",
    "        print(j,end=\"\")\n",
    "    print()   "
   ]
  },
  {
   "cell_type": "code",
   "execution_count": 11,
   "id": "f25eadfb",
   "metadata": {},
   "outputs": [
    {
     "name": "stdout",
     "output_type": "stream",
     "text": [
      "1\n",
      "22\n",
      "333\n",
      "4444\n",
      "55555\n"
     ]
    }
   ],
   "source": [
    "for i in range(1,6):\n",
    "    for j in range(i):\n",
    "        print(i,end=\"\")\n",
    "    print()    "
   ]
  },
  {
   "cell_type": "code",
   "execution_count": 12,
   "id": "4aa726db",
   "metadata": {},
   "outputs": [
    {
     "name": "stdout",
     "output_type": "stream",
     "text": [
      "55555\n",
      "4444\n",
      "333\n",
      "22\n",
      "1\n"
     ]
    }
   ],
   "source": [
    "for i in range(5,0,-1):\n",
    "    for j in range(i):\n",
    "        print(i,end=\"\")\n",
    "    print()    "
   ]
  },
  {
   "cell_type": "code",
   "execution_count": 17,
   "id": "4f39a09d",
   "metadata": {},
   "outputs": [
    {
     "name": "stdout",
     "output_type": "stream",
     "text": [
      "11111\n",
      "2222\n",
      "333\n",
      "44\n",
      "5\n"
     ]
    }
   ],
   "source": [
    "for i in range(1,6):\n",
    "    for j in range(6,i,-1):\n",
    "        print(i,end=\"\")\n",
    "    print()   "
   ]
  },
  {
   "cell_type": "code",
   "execution_count": 18,
   "id": "5538659b",
   "metadata": {},
   "outputs": [
    {
     "name": "stdout",
     "output_type": "stream",
     "text": [
      "55555\n",
      "4444\n",
      "333\n",
      "22\n",
      "1\n"
     ]
    }
   ],
   "source": [
    "for i in range(5,0,-1):\n",
    "    for j in range(i):\n",
    "        print(i,end=\"\")\n",
    "    print()    "
   ]
  },
  {
   "cell_type": "code",
   "execution_count": 20,
   "id": "601f38c5",
   "metadata": {},
   "outputs": [
    {
     "name": "stdout",
     "output_type": "stream",
     "text": [
      "55555\n",
      "5555\n",
      "555\n",
      "55\n",
      "5\n"
     ]
    }
   ],
   "source": [
    "for i in range(5,0,-1):\n",
    "    for j in range(i):\n",
    "        print(\"5\",end=\"\")\n",
    "    print()    "
   ]
  },
  {
   "cell_type": "code",
   "execution_count": 31,
   "id": "4322a177",
   "metadata": {},
   "outputs": [
    {
     "name": "stdout",
     "output_type": "stream",
     "text": [
      "012345\n",
      "01234\n",
      "0123\n",
      "012\n",
      "01\n",
      "0\n"
     ]
    }
   ],
   "source": [
    "for i in range(6,0,-1):\n",
    "    for j in range(i):\n",
    "        print(j,end=\"\")\n",
    "    print()    "
   ]
  },
  {
   "cell_type": "markdown",
   "id": "e8dd7992",
   "metadata": {},
   "source": [
    "### Alternate number pattern using while loop"
   ]
  },
  {
   "cell_type": "code",
   "execution_count": 4,
   "id": "45837d44",
   "metadata": {},
   "outputs": [
    {
     "name": "stdout",
     "output_type": "stream",
     "text": [
      "1\n",
      "33\n",
      "555\n",
      "7777\n",
      "99999\n"
     ]
    }
   ],
   "source": [
    "#1\n",
    "#33\n",
    "#555\n",
    "#7777\n",
    "#99999\n",
    "for i in range(1,6):\n",
    "    for j in range(i):\n",
    "        print(i*2-1,end=\"\")\n",
    "    print()    "
   ]
  },
  {
   "cell_type": "code",
   "execution_count": 7,
   "id": "814dca40",
   "metadata": {},
   "outputs": [
    {
     "name": "stdout",
     "output_type": "stream",
     "text": [
      "1\n",
      "33\n",
      "555\n",
      "7777\n",
      "99999\n"
     ]
    }
   ],
   "source": [
    "\n",
    "i=1\n",
    "while i<6:\n",
    "    j=1\n",
    "    while j<=i:\n",
    "        \n",
    "        print(i*2-1,end=\"\")\n",
    "        j+=1\n",
    "    i+=1    \n",
    "    print()"
   ]
  },
  {
   "cell_type": "markdown",
   "id": "67ae1c93",
   "metadata": {},
   "source": [
    "### Reverse Pyramid of Number"
   ]
  },
  {
   "cell_type": "code",
   "execution_count": 9,
   "id": "5b932427",
   "metadata": {},
   "outputs": [
    {
     "name": "stdout",
     "output_type": "stream",
     "text": [
      "1\n",
      "21\n",
      "321\n",
      "4321\n",
      "54321\n"
     ]
    }
   ],
   "source": [
    "#1\n",
    "#21\n",
    "#321\n",
    "#4321\n",
    "#54321\n",
    "\n",
    "for i in range(1,6):\n",
    "    for j in range(i,0,-1):\n",
    "        print(j,end=\"\")\n",
    "    print()"
   ]
  },
  {
   "cell_type": "markdown",
   "id": "75c7f70e",
   "metadata": {},
   "source": [
    "### another reverse no.pattern"
   ]
  },
  {
   "cell_type": "code",
   "execution_count": 10,
   "id": "4bffb745",
   "metadata": {},
   "outputs": [
    {
     "name": "stdout",
     "output_type": "stream",
     "text": [
      "54321\n",
      "4321\n",
      "321\n",
      "21\n",
      "1\n"
     ]
    }
   ],
   "source": [
    "#54321\n",
    "#4321\n",
    "#321\n",
    "#21\n",
    "#1\n",
    "\n",
    "for i in range(5,0,-1):\n",
    "    for j in range(i,0,-1):\n",
    "        print(j,end=\"\")\n",
    "    print()"
   ]
  },
  {
   "cell_type": "code",
   "execution_count": null,
   "id": "fc8b2ec5",
   "metadata": {},
   "outputs": [],
   "source": []
  }
 ],
 "metadata": {
  "kernelspec": {
   "display_name": "Python 3",
   "language": "python",
   "name": "python3"
  },
  "language_info": {
   "codemirror_mode": {
    "name": "ipython",
    "version": 3
   },
   "file_extension": ".py",
   "mimetype": "text/x-python",
   "name": "python",
   "nbconvert_exporter": "python",
   "pygments_lexer": "ipython3",
   "version": "3.8.8"
  }
 },
 "nbformat": 4,
 "nbformat_minor": 5
}
