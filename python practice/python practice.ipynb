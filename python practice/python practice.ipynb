{
 "cells": [
  {
   "cell_type": "code",
   "execution_count": 1,
   "id": "e490dc5d",
   "metadata": {},
   "outputs": [
    {
     "name": "stdout",
     "output_type": "stream",
     "text": [
      "enter a number 2\n",
      "2 is even \n"
     ]
    }
   ],
   "source": [
    "# Odd even program\n",
    "n=int(input(\"enter a number \"))\n",
    "if n%2==0:\n",
    "    print(n,\"is even \")\n",
    "else:\n",
    "    print(n,\"is odd\")"
   ]
  },
  {
   "cell_type": "code",
   "execution_count": 6,
   "id": "48e59b23",
   "metadata": {},
   "outputs": [
    {
     "name": "stdout",
     "output_type": "stream",
     "text": [
      "enter a number5\n",
      "120\n"
     ]
    }
   ],
   "source": [
    "# factorial program\n",
    "n=int(input(\"enter a number\"))\n",
    "i=1\n",
    "fact=1\n",
    "while i<=n:\n",
    "    fact=fact*i\n",
    "    i=i+1\n",
    "print(fact)    \n",
    "    "
   ]
  },
  {
   "cell_type": "code",
   "execution_count": 23,
   "id": "9c1f6b56",
   "metadata": {},
   "outputs": [
    {
     "name": "stdout",
     "output_type": "stream",
     "text": [
      "enter any no. 6\n",
      "not prime\n"
     ]
    }
   ],
   "source": [
    "# prime no program\n",
    "n=int(input(\"enter any no. \"))\n",
    "i=2\n",
    "while i<n:\n",
    "    if n%i==0:\n",
    "        print(\"not prime\")\n",
    "        break\n",
    "    i=i+1\n",
    "if i==n:\n",
    "    print(\"prime no. \")\n",
    "\n",
    "        "
   ]
  },
  {
   "cell_type": "code",
   "execution_count": 1,
   "id": "15026786",
   "metadata": {},
   "outputs": [
    {
     "name": "stdout",
     "output_type": "stream",
     "text": [
      "enter first no. 15\n",
      "enter second no. 9\n",
      "enter third no. 45\n",
      "45 is greater\n"
     ]
    }
   ],
   "source": [
    "# largest among three digit\n",
    "a=int(input(\"enter first no. \"))\n",
    "b=int(input(\"enter second no. \"))\n",
    "c=int(input(\"enter third no. \"))\n",
    "if a>b and a>c:\n",
    "    print(a,\"is greater\")\n",
    "elif b>a and b>c:\n",
    "    print(b,\"is greater\")\n",
    "else:\n",
    "    print(c,\"is greater\")"
   ]
  },
  {
   "cell_type": "code",
   "execution_count": 2,
   "id": "cde9e5d7",
   "metadata": {},
   "outputs": [
    {
     "name": "stdout",
     "output_type": "stream",
     "text": [
      "enter year 2020\n",
      "2020 is leap year\n"
     ]
    }
   ],
   "source": [
    "# find LEAP year\n",
    "y=int(input(\"enter year \"))\n",
    "if y%4==0:\n",
    "    print(y,\"is leap year\")\n",
    "else:\n",
    "    print(y,\"is not leap year\")\n",
    "\n",
    "\n",
    "    \n"
   ]
  },
  {
   "cell_type": "code",
   "execution_count": 27,
   "id": "e30ceac3",
   "metadata": {},
   "outputs": [
    {
     "name": "stdout",
     "output_type": "stream",
     "text": [
      "enter any no. 5\n",
      "5 is not perfect no.\n"
     ]
    }
   ],
   "source": [
    "#find PERFECT NO.\n",
    "n=int(input(\"enter any no. \"))\n",
    "i=1\n",
    "sum=0                     #perfect no means sum of diviser of that no is eqaul to no. entered by user\n",
    "while i<n:                #N=6 ==> 1,2,3 ==> 1+2+3==6 \n",
    "    if (n%i==0):\n",
    "        #a=n/i\n",
    "        sum=sum+i\n",
    "    i=i+1\n",
    "if sum==n:\n",
    "    print(n,\"is perfect no.\")\n",
    "else:\n",
    "    print(n,\"is not perfect no.\")\n",
    " \n",
    "    "
   ]
  },
  {
   "cell_type": "code",
   "execution_count": 48,
   "id": "ab71ef75",
   "metadata": {},
   "outputs": [
    {
     "name": "stdout",
     "output_type": "stream",
     "text": [
      "enter any no. 153\n",
      "1\n",
      "53\n",
      "5 3\n",
      "153\n",
      "153 is armstrong no.\n"
     ]
    }
   ],
   "source": [
    "#find ARMSTRONG NO.\n",
    "n=int(input(\"enter any no. \"))\n",
    "#a=n%1000\n",
    "b=n//100                  # armstrong no means sum of cubes of each digit is equl to no entered by user\n",
    "print (b)                 # N=153 ==> 1^3 + 5^3 + 3^3==153\n",
    "c=n%100\n",
    "print(c)\n",
    "d=c//10\n",
    "e=c%10\n",
    "print(d,e)\n",
    "z=b**3+d**3+e**3\n",
    "print(z)\n",
    "if z==n:\n",
    "    print(z,\"is armstrong no.\")\n",
    "else:\n",
    "    print(z,(\"is not armstrong no.\"))"
   ]
  },
  {
   "cell_type": "code",
   "execution_count": 5,
   "id": "0316bfbe",
   "metadata": {},
   "outputs": [
    {
     "name": "stdout",
     "output_type": "stream",
     "text": [
      "enter no. 370\n",
      "370 is armstrong no.\n"
     ]
    }
   ],
   "source": [
    "n=int(input(\"enter no. \"))\n",
    "a=n//100  #1\n",
    "b=n%100   #53\n",
    "c=b//10   #5\n",
    "d=b%10    #3\n",
    "e=a**3+c**3+d**3\n",
    "if e==n:\n",
    "    print(n,\"is armstrong no.\")\n",
    "else:\n",
    "    print(n,\"is not armstrong no.\")\n"
   ]
  },
  {
   "cell_type": "code",
   "execution_count": 15,
   "id": "2d731c56",
   "metadata": {},
   "outputs": [
    {
     "name": "stdout",
     "output_type": "stream",
     "text": [
      "enter any no. 56\n",
      "341\n"
     ]
    }
   ],
   "source": [
    "\n",
    "n=int(input(\"enter any no. \"))\n",
    "sum=0\n",
    "while n>0:\n",
    "    r=n%10\n",
    "    sum=sum+r**3\n",
    "    n=n//10\n",
    "    \n",
    "print (sum)    "
   ]
  },
  {
   "cell_type": "code",
   "execution_count": 17,
   "id": "be177b8a",
   "metadata": {},
   "outputs": [
    {
     "name": "stdout",
     "output_type": "stream",
     "text": [
      "enter any no. 145\n",
      "145 is strong no. \n"
     ]
    }
   ],
   "source": [
    "#WAP To find STRONG NUMBER \n",
    "n=int(input(\"enter any no. \"))\n",
    "def fact(n):\n",
    "    i=1\n",
    "    mul=1                   # STRONG NO. MEANS SUM OF FACTORIAL OF EACH DIGIT IS EQUAL TO THE NUMBER\n",
    "    while i<=n:             # N=145 ==> 1!+4!+5!==145\n",
    "        mul=mul*i\n",
    "        i=i+1\n",
    "    return mul\n",
    "a=fact(n//100)      #1\n",
    "b=n%100             #45\n",
    "c=fact(b//10)       #4\n",
    "d=fact(b%10)        #5\n",
    "\n",
    "'''e=fact(a)\n",
    "print(e)\n",
    "f=fact(c)\n",
    "print(f)\n",
    "g=fact(d)\n",
    "print(g)'''\n",
    "\n",
    "h=a+c+d\n",
    "\n",
    "if h==n:\n",
    "    print(n,\"is strong no. \")\n",
    "else:\n",
    "    print(n,\"is not strong no.\")\n",
    "    \n",
    "    \n"
   ]
  },
  {
   "cell_type": "code",
   "execution_count": 1,
   "id": "169c382c",
   "metadata": {},
   "outputs": [
    {
     "name": "stdout",
     "output_type": "stream",
     "text": [
      "enter any no. 81\n",
      "81 is neon no.\n"
     ]
    }
   ],
   "source": [
    "# NEON NO.\n",
    "n=int(input(\"enter any no. \"))\n",
    "a=n//100\n",
    "b=n%100\n",
    "c=b//10\n",
    "d=b%10\n",
    "e=(a+c+d)**2\n",
    "if n==e:\n",
    "    print(n, \"is neon no.\")\n",
    "else:\n",
    "    print(n,\"is not neon no.\")\n",
    "    \n"
   ]
  },
  {
   "cell_type": "code",
   "execution_count": 5,
   "id": "b8963627",
   "metadata": {},
   "outputs": [
    {
     "name": "stdout",
     "output_type": "stream",
     "text": [
      "enter any no.9\n",
      "81\n",
      "81\n",
      "9  is neon no.\n"
     ]
    }
   ],
   "source": [
    "#FINDING NEON NO. \n",
    "n=int(input(\"enter any no.\"))\n",
    "a=n*n\n",
    "print(a)\n",
    "b=a//100                        #NEON NO.==> SQUARE OF NO ENTERED BY USER IS EQUAL TO THE SUM OF DIGITS OF SQUARE\n",
    "c=a%100                         # N=9  ==> 81 ==>(8+1)^2\n",
    "d=c//10\n",
    "e=c%10\n",
    "h=(b+d+e)**2\n",
    "print(h)\n",
    "if a==h:\n",
    "    print(n,\" is neon no.\")\n",
    "else:\n",
    "    print(n,\" is not neon no.\")"
   ]
  },
  {
   "cell_type": "code",
   "execution_count": 13,
   "id": "d4446cc4",
   "metadata": {},
   "outputs": [
    {
     "name": "stdout",
     "output_type": "stream",
     "text": [
      "enter a no. 76\n",
      "5776\n",
      "76 is automorphic no. \n"
     ]
    }
   ],
   "source": [
    "#FIND AUTOMORPHIC NO.\n",
    "n=int(input(\"enter a no. \"))\n",
    "a=n*n\n",
    "print(a)\n",
    "b=a//100                   # AUTOMORPHIC NO. MEANS LAST NO. OF SQUARE OF THAT NO. IS EQUAL TO NO. ITSELF\n",
    "c=a%100                    # 76 ==> 5776\n",
    "d=c//10                    # 25 ==> 625\n",
    "e=c%10                     #  6 ==> 36\n",
    "h=int(str(d)+str(e))\n",
    "if n==e or  n==h:\n",
    "    print(n,\"is automorphic no. \")\n",
    "    \n",
    "else:\n",
    "    print(n,\"is not automorphic no. \")"
   ]
  },
  {
   "cell_type": "code",
   "execution_count": 23,
   "id": "3fc8adf3",
   "metadata": {},
   "outputs": [
    {
     "name": "stdout",
     "output_type": "stream",
     "text": [
      "enter any no. 2114\n",
      "8\n",
      "8\n",
      "2114 is spy no.\n"
     ]
    }
   ],
   "source": [
    "#FIND SPY NO.\n",
    "n=int(input(\"enter any no. \"))\n",
    "a=n//1000\n",
    "b=n%1000\n",
    "c=b//100                #SPY NO. ==>  SUM OF EACH DIGIT IS EQUAL TO THE PRODUCT WITH EACH DIGIT\n",
    "d=b%100                 # 2114  ==>  2+1+1+4==2*1*1*4\n",
    "e=d//10\n",
    "f=d%10\n",
    "summ=a+c+e+f\n",
    "print(summ)\n",
    "mul=a*c*e*f \n",
    "print(mul)\n",
    "if summ==mul:\n",
    "    print(n,\"is spy no.\")\n",
    "else:\n",
    "    print(n,\"is not spy no.\")"
   ]
  },
  {
   "cell_type": "code",
   "execution_count": 26,
   "id": "f3798398",
   "metadata": {},
   "outputs": [
    {
     "name": "stdout",
     "output_type": "stream",
     "text": [
      "enter any no. 2114\n",
      "given no is spy no.\n"
     ]
    }
   ],
   "source": [
    "n=int(input(\"enter any no. \"))\n",
    "sum=0\n",
    "prod=1\n",
    "                                 \n",
    "while (n>0):\n",
    "    r=n%10                            #SPY NO. ==>  SUM OF EACH DIGIT IS EQUAL TO THE PRODUCT WITH EACH DIGIT\n",
    "    sum=sum+r\n",
    "    prod=prod*r                       # 2114  ==>  2+1+1+4==2*1*1*4\n",
    "    n=n//10\n",
    "    \n",
    "if (sum==prod):\n",
    "    print(\"given no is spy no.\")\n",
    "else:\n",
    "    print(\"given no is not spy no.\")\n",
    "    "
   ]
  },
  {
   "cell_type": "code",
   "execution_count": 3,
   "id": "c9016def",
   "metadata": {},
   "outputs": [
    {
     "name": "stdout",
     "output_type": "stream",
     "text": [
      "enter a no. 24\n",
      "5.0\n",
      "24 is sunny no.\n"
     ]
    }
   ],
   "source": [
    "'''\n",
    "  SUNNY NUMBERS\n",
    "  SUNNY NUMBER MEANS NEXT NO WHICH IS ENTERED BY USER IS PERFECT SQUARE MEANS SQUARE ROOT OF THAT NO. IS WHOLE NO.\n",
    "  e.g. = 15 is sunny no. because 15+1=16 ==> sqrt(16)==4 which whole no\n",
    "'''\n",
    "\n",
    "import math as m\n",
    "n=int(input(\"enter a no. \"))\n",
    "root=m.sqrt(n+1)\n",
    "print(root)\n",
    "if (int(root)==root):\n",
    "    print(n,\"is sunny no.\")\n",
    "else:\n",
    "    print(n,\"is not sunny no.\")\n",
    "\n"
   ]
  },
  {
   "cell_type": "code",
   "execution_count": 6,
   "id": "77cfa281",
   "metadata": {},
   "outputs": [
    {
     "name": "stdout",
     "output_type": "stream",
     "text": [
      "enter a no. 100\n",
      "0 is sunny no.\n",
      "3 is sunny no.\n",
      "8 is sunny no.\n",
      "15 is sunny no.\n",
      "24 is sunny no.\n",
      "35 is sunny no.\n",
      "48 is sunny no.\n",
      "63 is sunny no.\n",
      "80 is sunny no.\n",
      "99 is sunny no.\n"
     ]
    }
   ],
   "source": [
    "'''\n",
    "    find sunny no. from 1 to n\n",
    "'''\n",
    "import math as m\n",
    "n=int(input(\"enter a no. \"))\n",
    "for i in range(0,n,1):\n",
    "    root=m.sqrt(i+1)\n",
    "    if (int(root)==root):\n",
    "        print(i,\"is sunny no.\")\n",
    "    "
   ]
  },
  {
   "cell_type": "code",
   "execution_count": 13,
   "id": "154e54b8",
   "metadata": {},
   "outputs": [
    {
     "name": "stdout",
     "output_type": "stream",
     "text": [
      "enter any no. 10\n",
      "10 is not happy no.\n"
     ]
    }
   ],
   "source": [
    "n=int(input(\"enter any no. \"))\n",
    "i=0\n",
    "sum=0\n",
    "res=0\n",
    "while res==1:\n",
    "    while n>0:\n",
    "        r=n%10\n",
    "        sum=(sum*sum+r*r)\n",
    "        n=n//10\n",
    "        print(sum)\n",
    "    n=sum\n",
    "    res=sum\n",
    "if res==1:\n",
    "    print(n,\"is happy no. \")\n",
    "else:\n",
    "    print(n,\"is not happy no.\")\n",
    "    "
   ]
  },
  {
   "cell_type": "code",
   "execution_count": 3,
   "id": "b0b0f8ba",
   "metadata": {},
   "outputs": [
    {
     "name": "stdout",
     "output_type": "stream",
     "text": [
      "enter any no. 10\n",
      "given no is happy no.\n"
     ]
    }
   ],
   "source": [
    "n=int(input(\"enter any no. \"))\n",
    "i=0\n",
    "sum=0\n",
    "\n",
    "while (sum!=1):\n",
    "    while (n>0):\n",
    "        r=n%10\n",
    "        sum=sum*sum+r*r\n",
    "        n=n//10\n",
    "\n",
    "    n=sum\n",
    "if sum==1:\n",
    "    print(\"given no is happy no.\")\n",
    "else:\n",
    "    print(\"given no is not happy no. \")\n",
    "    "
   ]
  },
  {
   "cell_type": "code",
   "execution_count": 25,
   "id": "e081ac18",
   "metadata": {},
   "outputs": [
    {
     "name": "stdout",
     "output_type": "stream",
     "text": [
      "enter any no. 446\n",
      "given no. is happy no.\n"
     ]
    }
   ],
   "source": [
    "'''\n",
    "HAPPY NO.====>SUM OF SQUARE OF EACH DIGIT IS CALCULATED UPTO WHICH WE CAN'T GATE \"1\".eg.=1,7,10,13,19,23,31,32,44,49,68,70,79,\n",
    "82,86,91,94,97,100\n",
    "44==> 4^2+4^2==32\n",
    "32==> 3^2+2^2==13\n",
    "13==> 1^2+3^2==10\n",
    "10==> 1^2+0^2==1\n",
    "'''\n",
    "n=int(input(\"enter any no. \"))\n",
    "sum=0\n",
    "\n",
    "while sum!=1:\n",
    "    sum=0\n",
    "    while n>0:\n",
    "        r=n%10\n",
    "        sum=sum+r*r\n",
    "        n=n//10\n",
    "    n=sum\n",
    "if sum==1:\n",
    "    print(\"given no. is happy no.\")\n",
    "else:\n",
    "    print(\"given no. is not happy no.\")\n",
    "\n",
    "    "
   ]
  },
  {
   "cell_type": "code",
   "execution_count": 9,
   "id": "ca95f2a9",
   "metadata": {},
   "outputs": [
    {
     "name": "stdout",
     "output_type": "stream",
     "text": [
      "enter any no. 156\n",
      "3\n",
      "156312468\n",
      "1\n",
      "5\n",
      "6\n",
      "3\n",
      "1\n",
      "2\n",
      "4\n",
      "6\n",
      "8\n",
      "invalid\n"
     ]
    }
   ],
   "source": [
    "n=input(\"enter any no. \")\n",
    "l=len(n)\n",
    "print(l)\n",
    "if l>=3:\n",
    "    num=int(n)\n",
    "    a=num*2\n",
    "    b=num*3\n",
    "    c=n+str(a)+str(b)\n",
    "    print(c)\n",
    "    \n",
    "    for i in c:\n",
    "        element=i\n",
    "        #print (element)\n",
    "\n",
    "'''p='123456789'\n",
    "if p==element:\n",
    "    print(\"valid \")\n",
    "else:\n",
    "    print(\"invalid\")\n",
    "\n",
    " '''\n",
    "i=1\n",
    "while i=10:\n",
    "    if i in c:\n",
    "        print()\n",
    "    \n",
    "\n",
    "    \n",
    "    \n",
    "    \n",
    "    \n",
    "        \n",
    "        "
   ]
  },
  {
   "cell_type": "code",
   "execution_count": 19,
   "id": "de89a372",
   "metadata": {},
   "outputs": [
    {
     "name": "stdout",
     "output_type": "stream",
     "text": [
      "enter a number213\n",
      "sum =  36\n",
      "Given no. is not Armstrong no.\n"
     ]
    }
   ],
   "source": [
    "#Write a program to check whether a three  digit  number entered by user is armstrong number or not.\n",
    "\n",
    "n=int(input(\"enter a number \"))\n",
    "temp=n\n",
    "sum=0\n",
    "while n>0:\n",
    "    r=n%10\n",
    "    sum=sum+r**3\n",
    "    n=n//10\n",
    "\n",
    "print(\"sum = \",sum)\n",
    "if sum==temp:\n",
    "    print(\"Given no. is Armstrong no. \")\n",
    "else:\n",
    "    print(\"Given no. is not Armstrong no.\")"
   ]
  },
  {
   "cell_type": "code",
   "execution_count": 20,
   "id": "7822119d",
   "metadata": {},
   "outputs": [
    {
     "name": "stdout",
     "output_type": "stream",
     "text": [
      "enter no. 153\n",
      "153 is Armstrong no.\n"
     ]
    }
   ],
   "source": [
    "#Write a program to check whether a three  digit  number entered by user is armstrong number or not.\n",
    "\n",
    "n=int(input(\"enter no. \"))\n",
    "a=n//100  #1\n",
    "b=n%100   #53\n",
    "c=b//10   #5\n",
    "d=b%10    #3\n",
    "e=a**3+c**3+d**3\n",
    "if e==n:\n",
    "    print(n,\"is Armstrong no.\")\n",
    "else:\n",
    "    print(n,\"is not Armstrong no.\")\n"
   ]
  },
  {
   "cell_type": "code",
   "execution_count": 12,
   "id": "b639079a",
   "metadata": {},
   "outputs": [
    {
     "name": "stdout",
     "output_type": "stream",
     "text": [
      "enter a number 1234\n",
      "sum of digits in the number:  10\n"
     ]
    }
   ],
   "source": [
    "n=int(input(\"enter a number \"))\n",
    "sum=0\n",
    "while n>0:\n",
    "    r=n%10\n",
    "    sum=sum+r\n",
    "    n=n//10\n",
    "    \n",
    "print(\"sum of digits in the number: \",sum)"
   ]
  },
  {
   "cell_type": "code",
   "execution_count": 13,
   "id": "410bb711",
   "metadata": {},
   "outputs": [
    {
     "data": {
      "text/plain": [
       "False"
      ]
     },
     "execution_count": 13,
     "metadata": {},
     "output_type": "execute_result"
    }
   ],
   "source": [
    "not(10<20) and not(10>30)"
   ]
  },
  {
   "cell_type": "code",
   "execution_count": 14,
   "id": "854301a4",
   "metadata": {},
   "outputs": [
    {
     "name": "stdout",
     "output_type": "stream",
     "text": [
      "good\n"
     ]
    }
   ],
   "source": [
    "if(9<0) and (0< -9):\n",
    "    print(\"hello\")\n",
    "elif (9>0)or False:\n",
    "    print(\"good\")\n",
    "else:\n",
    "    print(\"bad\")\n"
   ]
  },
  {
   "cell_type": "code",
   "execution_count": 15,
   "id": "c375d3b6",
   "metadata": {},
   "outputs": [
    {
     "name": "stdout",
     "output_type": "stream",
     "text": [
      "choice 1 = paper \n",
      " choice 2 = scissor\n",
      " choice 3 = rock\n",
      "choose one of three3\n",
      "rock\n",
      "computer turn \n",
      "2\n",
      "scissor\n",
      "rock V/S scissor\n",
      "ROCK IS WINNER \n",
      "user is winner\n",
      "\n",
      "DO YOU WAN'T PLAY AGAIN\n",
      " \n",
      "NO\n",
      "good day \n"
     ]
    }
   ],
   "source": [
    "import random\n",
    "print(\"choice 1 = paper \\n choice 2 = scissor\\n choice 3 = rock\")     # PAPER SCISSOR ROCK GAME\n",
    "choice=int(input(\"choose one of three\"))               \n",
    "while True:                                                                   \n",
    "    \n",
    "    while choice>3 or choice<1:\n",
    "        choice=int(input(\"enter valid input\"))\n",
    "    if choice==1:\n",
    "        choice_name='paper'\n",
    "    elif choice==2:\n",
    "        choice_name='scissor'\n",
    "    else:\n",
    "        choice_name='rock'\n",
    "    print(choice_name)     \n",
    "\n",
    "    print(\"computer turn \")    \n",
    "    com=random.randint(1,3)    \n",
    "    print(com)\n",
    "    \n",
    "    while com==choice:\n",
    "        com=random.randint(1,3)\n",
    "    if com==1:\n",
    "        com_name='paper'\n",
    "    elif com==2:\n",
    "        com_name='scissor'\n",
    "    elif com==3:\n",
    "        com_name='rock'\n",
    "        #com_name=com    \n",
    "    print(com_name)    \n",
    "    \n",
    "    print(choice_name, \"V/S\", com_name)        \n",
    "    \n",
    "    if ((choice==1 and com==2 ) or (choice==2 and com==1 )):\n",
    "        print(\"SCISSOR IS WINNER \")\n",
    "        result='scissor'\n",
    "    elif ((choice==2 and com==3 ) or (choice==3 and com==2 )):\n",
    "        print(\"ROCK IS WINNER \")\n",
    "        result='rock'   \n",
    "    elif ((choice==1 and com==3 ) or (choice==3 and com==1 )):\n",
    "        print(\"PAPER IS WINNER \")\n",
    "        result='paper' \n",
    "        \n",
    "    #com_name=choice\n",
    "    if result==choice_name:\n",
    "        print(\"user is winner\")\n",
    "    else:\n",
    "        print(\"computer winner\") \n",
    "    \n",
    "    print(\"\\nDO YOU WAN'T PLAY AGAIN\\n \")\n",
    "    ans=input()\n",
    "    if ans=='no' or ans=='NO':\n",
    "        print(\"good day \")\n",
    "        break\n",
    "\n",
    "           \n",
    "      \n",
    "\n"
   ]
  },
  {
   "cell_type": "code",
   "execution_count": 1,
   "id": "3c143373",
   "metadata": {},
   "outputs": [
    {
     "name": "stdout",
     "output_type": "stream",
     "text": [
      "choose any one: \n",
      " paper=1\n",
      " scissor=2\n",
      " rock=3\n",
      "\n",
      "Enter by your choice: 1\n",
      "choice:  Paper\n",
      "\n",
      "NOW COMPUTER TURN: \n",
      "computer turn:  Scissor\n",
      "\n",
      "Paper V/S Scissor\n",
      "\n",
      "Scissor is Winner\n",
      "\n",
      "COMPUTER IS WINNER\n",
      "\n",
      "Do you want to play again\n",
      "yes\n",
      "choose any one: \n",
      " paper=1\n",
      " scissor=2\n",
      " rock=3\n",
      "\n",
      "Enter by your choice: 5\n",
      "Enter valid input: 2\n",
      "choice:  Scissor\n",
      "\n",
      "NOW COMPUTER TURN: \n",
      "computer turn:  Paper\n",
      "\n",
      "Scissor V/S Paper\n",
      "\n",
      "Scissor is Winner\n",
      "\n",
      "USER IS WINNER\n",
      "\n",
      "Do you want to play again\n",
      "no\n",
      "\n",
      "good day!\n",
      "Exit\n"
     ]
    }
   ],
   "source": [
    "import random\n",
    "\n",
    "def game():\n",
    "\n",
    "    print(\"choose any one: \\n paper=1\\n scissor=2\\n rock=3\")\n",
    "    print()\n",
    "\n",
    "    choice=int(input(\"Enter by your choice: \"))\n",
    "\n",
    "    while True:\n",
    "    \n",
    "        while choice>3 or choice<1:\n",
    "            choice=int(input(\"Enter valid input: \"))\n",
    "        \n",
    "        if choice==1:\n",
    "            choice_name=\"Paper\"\n",
    "        elif choice==2:\n",
    "            choice_name=\"Scissor\"\n",
    "        else:\n",
    "            choice_name=\"Rock\"\n",
    "    \n",
    "        print(\"choice: \",choice_name) \n",
    "    \n",
    "        print()\n",
    "        print(\"NOW COMPUTER TURN: \")\n",
    "        com=random.randint(1,3)\n",
    "    \n",
    "        while choice==com:\n",
    "            com=random.randint(1,3)\n",
    "        if com==1:\n",
    "            comp_name=\"Paper\"\n",
    "        elif com==2:\n",
    "            comp_name=\"Scissor\"\n",
    "        else:\n",
    "            comp_name=\"Rock\"\n",
    "        print(\"computer turn: \",comp_name) \n",
    "    \n",
    "        print()\n",
    "        print(choice_name ,\"V/S\",comp_name)\n",
    "    \n",
    "        print()\n",
    "        if (choice==1 and com==2) or (choice==2 and com==1):\n",
    "            print(\"Scissor is Winner\")\n",
    "            result=\"Scissor\"\n",
    "        \n",
    "        elif (choice==2 and com==3) or (choice==3 and com==2):\n",
    "            print(\"Rock is Winner\")\n",
    "            result=\"Rock\"\n",
    "        \n",
    "        elif (choice==3 and com==1) or (choice==1 and com==3):\n",
    "            print(\"Paper is Winner \")\n",
    "            result=\"Paper\"\n",
    "        \n",
    "        print()\n",
    "        if result==comp_name:\n",
    "            print(\"COMPUTER IS WINNER\")\n",
    "        else:\n",
    "            print(\"USER IS WINNER\")\n",
    "        \n",
    "        print()\n",
    "        print(\"Do you want to play again\")\n",
    "        ans=input()\n",
    "        if ans==\"no\" or ans==\"NO\":\n",
    "            print()\n",
    "            print(\"good day!\")\n",
    "            break;   \n",
    "        elif ans==\"yes\" or ans==\"YES\" :\n",
    "            game()\n",
    "            break;\n",
    "        \n",
    "    \n",
    "            \n",
    "game() \n",
    "print(\"Exit\")\n",
    "            \n"
   ]
  },
  {
   "cell_type": "code",
   "execution_count": 2,
   "id": "9180cf6e",
   "metadata": {},
   "outputs": [
    {
     "name": "stdout",
     "output_type": "stream",
     "text": [
      " | | \n",
      "_____\n",
      " | | \n",
      "_____\n",
      " | | \n",
      "_____\n",
      "your chance player 1 choose position for X 2\n",
      " | | \n",
      "_____\n",
      " | | \n",
      "_____\n",
      " |X| \n",
      "_____\n",
      "your chance player 2 choose position for O 3\n",
      " | | \n",
      "_____\n",
      " | | \n",
      "_____\n",
      " |X|O\n",
      "_____\n",
      "your chance player 1 choose position for X 4\n",
      " | | \n",
      "_____\n",
      "X| | \n",
      "_____\n",
      " |X|O\n",
      "_____\n",
      "your chance player 2 choose position for O 6\n",
      " | | \n",
      "_____\n",
      "X| |O\n",
      "_____\n",
      " |X|O\n",
      "_____\n",
      "your chance player 1 choose position for X 9\n",
      " | |X\n",
      "_____\n",
      "X| |O\n",
      "_____\n",
      " |X|O\n",
      "_____\n",
      "your chance player 2 choose position for O 7\n",
      "O| |X\n",
      "_____\n",
      "X| |O\n",
      "_____\n",
      " |X|O\n",
      "_____\n",
      "your chance player 1 choose position for X 1\n",
      "O| |X\n",
      "_____\n",
      "X| |O\n",
      "_____\n",
      "X|X|O\n",
      "_____\n",
      "your chance player 2 choose position for O 8\n",
      "O|O|X\n",
      "_____\n",
      "X| |O\n",
      "_____\n",
      "X|X|O\n",
      "_____\n",
      "your chance player 1 choose position for X 5\n",
      "O|O|X\n",
      "_____\n",
      "X|X|O\n",
      "_____\n",
      "X|X|O\n",
      "_____\n",
      "player 1 won\n"
     ]
    }
   ],
   "source": [
    "'''#from IPython.display import clear_output\n",
    "board=['0','1','2','3','4','5','6','7','8']\n",
    "empty=[0,1,2,3,4,5,6,7,8]\n",
    "def display_board():\n",
    "    #clear_output()\n",
    "    print('  |   |  ')\n",
    "    print(board[0]+' | '+board[1]+' | '+board[2]) \n",
    "    #print('_ _ _ _ _')\n",
    "    print('  |   |  ')\n",
    "    print(board[3]+' | '+board[4]+' | '+board[5])\n",
    "    #print('_ _ _ _ _') \n",
    "    print('  |   |  ')\n",
    "    print(board[6]+' | '+board[7]+' | '+board[8]) \n",
    "\n",
    "def player_input(player):\n",
    "    player_symbol=['X','O']  \n",
    "    correct_input=True\n",
    "    position=int(input(\"player {playerno} chance! choose field to fill {symbol} \".format(playerno= player+1, symbol=player_symbol[player]))) \n",
    "    if board[position]=='X' or board[position]=='O':\n",
    "        correct_input=False\n",
    "    if not correct_input:\n",
    "        print(\"Position already equipped\")\n",
    "        player_input(player)\n",
    "    else:\n",
    "        empty.remove(position)\n",
    "        board[position]=player_symbol[player]\n",
    "        return 1   \n",
    "\n",
    "def check_win():\n",
    "    player_symbol=['X','O']\n",
    "    winning_positions=[[0,1,2],[3,4,5],[6,7,8],[0,3,6],[1,4,7],[2,5,8],[0,4,8],[2,4,6]]\n",
    "    for check in winning_positions:\n",
    "        first_symbol=board[check[0]]\n",
    "        if first_symbol != ' ':\n",
    "            won=True\n",
    "            for point in check:\n",
    "                if board[point] != first_symbol:\n",
    "                    won= False\n",
    "                    break\n",
    "            if won:\n",
    "                if first_symbol==player_symbol[0]:\n",
    "                    print(\"player 1 won\")\n",
    "                    break\n",
    "                else:\n",
    "                    print(\"player 2 won\")\n",
    "                    break     \n",
    "        else:\n",
    "            won=False\n",
    "    if won:\n",
    "        return 0 \n",
    "    else:\n",
    "        return 1\n",
    "\n",
    "def play():\n",
    "    player= 0\n",
    "    while empty and check_win():\n",
    "        display_board()\n",
    "        player_input(player)\n",
    "        player= int (not player)      \n",
    "    if not empty:\n",
    "        print(\"NO WINNER\")             \n",
    "\n",
    "play()'''\n",
    "\n",
    "\n",
    "\n",
    "\n",
    "\n",
    "\n",
    "\n",
    "\n",
    "\n",
    "'''theboard={'7' : ' ','8' : ' ','9' : ' ',\n",
    "          '4' : ' ','5' : ' ','6' : ' ',\n",
    "          '1' : ' ','2' : ' ','3' : ' ' }\n",
    "board_keys=[]\n",
    "for key in theboard:\n",
    "    board_keys.append(key)\n",
    "def printboard(board):\n",
    "    print(board['7']+'|'+board['8']+'|'+board['9'])\n",
    "    print('_____')    \n",
    "    print(board['4']+'|'+board['5']+'|'+board['6'])\n",
    "    print('_____')    \n",
    "    print(board['1']+'|'+board['2']+'|'+board['3'])\n",
    "\n",
    "def game():\n",
    "    turn='X'\n",
    "    count=0\n",
    "\n",
    "    for i in range(10):\n",
    "        printboard(theboard)\n",
    "        print(\"It's your turn,\"+turn+\"move to which place? \")\n",
    "        \n",
    "        move=input()\n",
    "        \n",
    "        if theboard[move]==' ':\n",
    "            theboard[move]=turn\n",
    "            count+=1\n",
    "        else:\n",
    "            print(\"that place is already filled.\\nmove to which place? \")\n",
    "            continue\n",
    "\n",
    "        if count>=5:\n",
    "            if theboard['7']==theboard['8']==theboard['9']:\n",
    "                printboard(theboard)\n",
    "                print(\"\\n game over.\\n\")\n",
    "                print(\" **** \",turn ,\"won. ****\")\n",
    "                break    \n",
    "            elif theboard['4']==theboard['5']==theboard['6']:\n",
    "                printboard(theboard)\n",
    "                print(\"\\n game over.\\n\")\n",
    "                print(\" **** \",turn ,\"won. ****\")\n",
    "                break    \n",
    "            elif theboard['1']==theboard['2']==theboard['3']:\n",
    "                printboard(theboard)\n",
    "                print(\"\\n game over.\\n\")\n",
    "                print(\" **** \",turn ,\"won. ****\")\n",
    "                break    \n",
    "            elif theboard['2']==theboard['5']==theboard['8']:\n",
    "                printboard(theboard)\n",
    "                print(\"\\n game over.\\n\")\n",
    "                print(\" **** \",turn ,\"won. ****\")\n",
    "                break    \n",
    "            elif theboard['3']==theboard['6']==theboard['9']:\n",
    "                printboard(theboard)\n",
    "                print(\"\\n game over.\\n\")\n",
    "                print(\" **** \",turn ,\"won. ****\")\n",
    "                break    \n",
    "            elif theboard['7']==theboard['5']==theboard['3']:\n",
    "                printboard(theboard)\n",
    "                print(\"\\n game over.\\n\")\n",
    "                print(\" **** \",turn ,\"won. ****\")\n",
    "                break    \n",
    "            elif theboard['1']==theboard['5']==theboard['9']:\n",
    "                printboard(theboard)\n",
    "                print(\"\\n game over.\\n\")\n",
    "                print(\" **** \",turn ,\"won. ****\")\n",
    "                break    \n",
    "            elif theboard['1']==theboard['4']==theboard['7']:\n",
    "                printboard(theboard)\n",
    "                print(\"\\n game over.\\n\")\n",
    "                print(\" **** \",turn ,\"won. ****\")\n",
    "                break  \n",
    "\n",
    "        if count==9:\n",
    "            print(\"\\n game over.\\n\")\n",
    "            print(\"it is tie!\")\n",
    "\n",
    "        if turn=='X':\n",
    "            turn='O'\n",
    "        else:\n",
    "            turn='X' ''' \n",
    "    #restart= input(\"if you want to play again? \")\n",
    "    #if restart==\"y\" or restart==\"Y\":\n",
    "     #   game()'''\n",
    "\n",
    "'''game()'''   \n",
    "\n",
    "\n",
    "\n",
    "\n",
    "\n",
    "\n",
    "\n",
    "'''board=['0','1','2','3','4','5','6','7','8']\n",
    "empty=[0,1,2,3,4,5,6,7,8]\n",
    "def display_board(board):\n",
    "    #clear_output()\n",
    "    print('  |   |  ')\n",
    "    print(board[0]+' | '+board[1]+' | '+board[2]) \n",
    "    #print('_ _ _ _ _')\n",
    "    print('  |   |  ')\n",
    "    print(board[3]+' | '+board[4]+' | '+board[5])\n",
    "    #print('_ _ _ _ _') \n",
    "    print('  |   |  ')\n",
    "    print(board[6]+' | '+board[7]+' | '+board[8]) \n",
    "\n",
    "def player_input(player):\n",
    "    player_symbol=['X','O']\n",
    "    #correct_input=True\n",
    "    position=int(input(\"player {playerno} chance! choose field to fill {symbol} \".format(playerno= player+1, symbol=player_symbol[player])))\n",
    "    if board[position]=='X' or board[position]=='O':\n",
    "        #correct_input=False\n",
    "    #if not correct_input:\n",
    "        print(\"position is already equiped\") \n",
    "        player_input(player)   \n",
    "    else:\n",
    "        empty.remove(position)\n",
    "        board[position]=player_symbol[player]\n",
    "        return 1\n",
    "\n",
    "def check_win():\n",
    "    player_symbol=['X','O']\n",
    "    \n",
    "\n",
    "    \n",
    "player=0\n",
    "for i in range(0,10):\n",
    "    display_board(board)\n",
    "    player_input(player)\n",
    "    player= int (not player)\n",
    "    check_win() '''\n",
    "\n",
    "\n",
    "#board\n",
    "#display board\n",
    "#play game\n",
    "#handover turn\n",
    "#check win\n",
    "#check row,column,digonals\n",
    "#check tie\n",
    "#flip player\n",
    "\n",
    "\n",
    "\n",
    "'''board=['_','_','_','_','_','_','_','_','_']\n",
    "\n",
    "game_is_still_going=True\n",
    "winner=None\n",
    "current_player='X'\n",
    "\n",
    "def display_board():\n",
    "    print(board[0]+ '|'+board[1]+'|'+board[2])\n",
    "    print(board[3]+ '|'+board[4]+'|'+board[5])\n",
    "    print(board[6]+ '|'+board[7]+'|'+board[8])\n",
    "\n",
    "def play_game():\n",
    "    player=0\n",
    "    display_board()\n",
    "    while game_is_still_going:\n",
    "        player=int(not player) \n",
    "        handle_turn(player)\n",
    "        check_if_gameover()\n",
    "        #flip_player()\n",
    "        \n",
    "    if winner=='X' or winner=='O':\n",
    "        print(winner+\"won\")\n",
    "    else:\n",
    "        print(\"This will tie\")  \n",
    "\n",
    "def handle_turn(player):\n",
    "    #player_symbol=['X','O'] \n",
    "    #position=int(input(\"player {playerno} chance! choose field to fill {symbol} \".format(playerno= player+1, symbol=player_symbol[player]))) \n",
    "    #print(\"\")\n",
    "    position=int(input(\"choose a position from 1 to 9 \"))\n",
    "    valid=False\n",
    "    while not valid:\n",
    "        if position not in ['0','1','2','3','4','5','6','7','8']:\n",
    "            print(\"INVALID INPUT, Choose  input from 1 to 9 \")\n",
    "            \n",
    "    position=int(position-1)    \n",
    "        #if board[position]=='_':\n",
    "            #valid=True\n",
    "        #else:\n",
    "        #   print(\"position already equipped choose another input\")  \n",
    "    board[position]=player\n",
    "    display_board()\n",
    "\n",
    "def check_if_gameover():\n",
    "    check_for_winner()\n",
    "    #check_if_tie()\n",
    "\n",
    "def check_for_winner():\n",
    "    global winner \n",
    "    row_winner=check_rows()\n",
    "    column_winner=check_column()\n",
    "    dig_winner=check_diagonal()\n",
    "    if row_winner:\n",
    "        winner=row_winner\n",
    "    elif column_winner:\n",
    "        winner=column_winner\n",
    "    elif dig_winner:\n",
    "        winner=dig_winner\n",
    "    else:\n",
    "        winner=None \n",
    "    return\n",
    "def check_rows():\n",
    "    global game_is_still_going\n",
    "    row_1=board[0]=board[1]=board[2]!='_'\n",
    "    row_2=board[3]=board[4]=board[5]!='_'\n",
    "    row_3=board[6]=board[7]=board[8]!='_'\n",
    "    if row_1 or row_2 or row_3:\n",
    "        game_is_still_going=False\n",
    "    if row_1:\n",
    "        return board[0] \n",
    "    if row_2:\n",
    "        return board[3] \n",
    "    if row_3:\n",
    "        return board[6]            \n",
    "    return\n",
    "\n",
    "def check_column():\n",
    "    global game_is_still_going\n",
    "    column_1=board[0]=board[3]=board[6]!='_'\n",
    "    column_2=board[1]=board[4]=board[7]!='_'\n",
    "    column_3=board[2]=board[5]=board[8]!='_'\n",
    "    if column_1 or column_2 or column_3:\n",
    "        game_is_still_going=False\n",
    "    if column_1:\n",
    "        return board[0] \n",
    "    if column_2:\n",
    "        return board[1] \n",
    "    if column_3:\n",
    "        return board[2]            \n",
    "    \n",
    "    return\n",
    "\n",
    "def check_diagonal():\n",
    "    global game_is_still_going\n",
    "    dig_1=board[0]=board[4]=board[8]!='_'\n",
    "    dig_2=board[2]=board[4]=board[6]!='_'\n",
    "    if dig_1 or dig_2:\n",
    "        game_is_still_going=False\n",
    "    if dig_1:\n",
    "        return board[0] \n",
    "    if dig_2:\n",
    "        return board[2]             \n",
    "    return        \n",
    "\n",
    "\n",
    "def check_if_tie():\n",
    "    global game_is_still_going\n",
    "    if '_'  not in board:\n",
    "        game_is_still_going=False\n",
    "    return\n",
    "\n",
    "def flip_player():\n",
    "    global current_player\n",
    "    if current_player=='X':\n",
    "        current_player='O'\n",
    "    elif current_player=='O':\n",
    "        current_player='X'    \n",
    "    return\n",
    "play_game() '''\n",
    "\n",
    "board={ '6':' ','7':' ','8':' ',\n",
    "        '3':' ','4':' ','5':' ',\n",
    "        '0':' ','1':' ','2':' '}\n",
    "\n",
    "key_board=[]\n",
    "\n",
    "for key in board:\n",
    "    key_board.append(key)\n",
    "def printboard():\n",
    "    print(board['6']+'|'+board['7']+'|'+board['8'])\n",
    "    print(\"_____\")     \n",
    "    print(board['3']+'|'+board['4']+'|'+board['5'])\n",
    "    print(\"_____\") \n",
    "    print(board['0']+'|'+board['1']+'|'+board['2'])\n",
    "    print(\"_____\")  \n",
    "\n",
    "def player_input(player):\n",
    "    player_symbol=['X','O']\n",
    "    current_player=True\n",
    "    count=0\n",
    "    position=int(input(\"your chance player {playerno} choose position for {symbol} \".format(playerno=player+1,symbol=player_symbol[player])))\n",
    "    position=str(position-1)\n",
    "    count+=1\n",
    "    if board[position]=='X' or board[position]=='O':\n",
    "        current_player=False\n",
    "        print(\"position is already equiped choose another input \")\n",
    "        player_input(player)  \n",
    "        \n",
    "    elif board[position]==' ':\n",
    "        board[position]=player_symbol[player]\n",
    "        return 1\n",
    "        \n",
    "def check_win():\n",
    "    player_symbol=['X','O']\n",
    "   \n",
    "    winning_positions=[['0','1','2'],['3','4','5'],['6','7','8'],['0','3','6'],['1','4','7'],['2','5','8'],['0','4','8'],['2','4','6']]\n",
    "    for check in winning_positions:\n",
    "        first_symbol=board[check[0]]\n",
    "        if first_symbol != ' ':\n",
    "            won=True\n",
    "            for point in check:\n",
    "                if board[point] != first_symbol:\n",
    "                    won= False\n",
    "                    \n",
    "                    break\n",
    "            \n",
    "            if won:\n",
    "                if first_symbol==player_symbol[0]:\n",
    "                    print(\"player 1 won\")\n",
    "                    break\n",
    "                else:\n",
    "                    print(\"player 2 won\")\n",
    "                    break    \n",
    "                   \n",
    "        else:\n",
    "            won=False\n",
    "            \n",
    "       \n",
    "\n",
    "    if won:\n",
    "        return 0 \n",
    "    else:\n",
    "        return 1\n",
    "    \n",
    "player=0\n",
    "printboard()\n",
    "while check_win():\n",
    "    player_input(player)\n",
    "    printboard()\n",
    "    player=int(not player)\n",
    "\n",
    "\n",
    "\n",
    "\n",
    "\n",
    "\n",
    "\n",
    "\n",
    "                  \n",
    "            \n",
    "            \n",
    "              \n",
    "    \n",
    "    \n",
    "    \n",
    "    \n",
    "\n",
    "    \n"
   ]
  },
  {
   "cell_type": "code",
   "execution_count": 40,
   "id": "e52c9637",
   "metadata": {},
   "outputs": [
    {
     "name": "stdout",
     "output_type": "stream",
     "text": [
      "\n",
      "guess the no between 1-10: 3\n",
      "computer guess is:  3\n",
      "You are right WELDONE!\n",
      "Do you want to play again yes or no: \n",
      "yes\n",
      "\n",
      "guess the no between 1-10: 3\n",
      "computer guess is:  2\n",
      "Your guess is wrong Please try again\n",
      "Do you want to play again yes or no: \n",
      "yes\n",
      "\n",
      "guess the no between 1-10: 3\n",
      "computer guess is:  5\n",
      "Your guess is wrong Please try again\n",
      "Do you want to play again yes or no: \n",
      "yes\n",
      "\n",
      "guess the no between 1-10: 5\n",
      "computer guess is:  7\n",
      "Your guess is wrong Please try again\n",
      "Do you want to play again yes or no: \n",
      "no\n",
      "EXIT\n"
     ]
    }
   ],
   "source": [
    "'''\n",
    "GAME OF GUESSING NO.\n",
    "===================\n",
    "'''\n",
    "\n",
    "import random\n",
    "def play_again():\n",
    "    ans=str(input())\n",
    "    if ans==\"yes\" or ans==\"YES\":\n",
    "        game()\n",
    "    elif ans==\"no\" or ans==\"NO\":\n",
    "        print(\"EXIT\")\n",
    "        \n",
    "def game():\n",
    "    print()\n",
    "    guess=int(input(\"guess the no between 1-10: \"))\n",
    "    cno=random.randint(1,10)\n",
    "    if cno<1 or cno>10:\n",
    "        print(\"please enter valid no. \",cno)\n",
    "    print(\"computer guess is: \",cno)\n",
    "    while True:\n",
    "        if guess!=cno:\n",
    "            print(\"Your guess is wrong Please try again\")\n",
    "            print(\"Do you want to play again yes or no: \")\n",
    "            play_again()\n",
    "            break;\n",
    "            \n",
    "        else:\n",
    "            print(\"You are right WELDONE!\")\n",
    "            print(\"Do you want to play again yes or no: \")\n",
    "            play_again()\n",
    "            break;\n",
    "game()        "
   ]
  },
  {
   "cell_type": "code",
   "execution_count": 2,
   "id": "11dde9eb",
   "metadata": {},
   "outputs": [
    {
     "name": "stdout",
     "output_type": "stream",
     "text": [
      "-2\n",
      "-3\n",
      "-4\n"
     ]
    }
   ],
   "source": [
    "for num in range(-2,-5,-1):\n",
    "    print(num)"
   ]
  },
  {
   "cell_type": "code",
   "execution_count": 3,
   "id": "0facbaed",
   "metadata": {},
   "outputs": [
    {
     "name": "stdout",
     "output_type": "stream",
     "text": [
      "equal by value\n"
     ]
    }
   ],
   "source": [
    "series1=['a','b','c']\n",
    "series2=list('abc')\n",
    "if series1==series2:\n",
    "    print(\"equal by value\")\n",
    "    \n",
    "if series1 is series2:\n",
    "    print(\"equal by memory\")"
   ]
  },
  {
   "cell_type": "code",
   "execution_count": 4,
   "id": "e1136f72",
   "metadata": {},
   "outputs": [
    {
     "name": "stdout",
     "output_type": "stream",
     "text": [
      "allocated same memory in string pool\n"
     ]
    }
   ],
   "source": [
    "str1='itv'\n",
    "str2='itv'\n",
    "if str1 is str2:\n",
    "    print(\"allocated same memory in string pool\")\n",
    "else:\n",
    "    print(\"two different memories allocated\")"
   ]
  },
  {
   "cell_type": "code",
   "execution_count": 7,
   "id": "75a9da4b",
   "metadata": {},
   "outputs": [
    {
     "data": {
      "text/plain": [
       "(1, 2, (4, 5))"
      ]
     },
     "execution_count": 7,
     "metadata": {},
     "output_type": "execute_result"
    }
   ],
   "source": [
    "a=(1,2,(4,5))\n",
    "b=(1,2,(3,4))\n",
    "a"
   ]
  },
  {
   "cell_type": "code",
   "execution_count": 4,
   "id": "3e3b2124",
   "metadata": {},
   "outputs": [
    {
     "data": {
      "text/plain": [
       "[1, 0, 1, 0, 1]"
      ]
     },
     "execution_count": 4,
     "metadata": {},
     "output_type": "execute_result"
    }
   ],
   "source": [
    "l=[1,2,3,4,5]\n",
    "[x&1 for x in l]"
   ]
  },
  {
   "cell_type": "code",
   "execution_count": 5,
   "id": "ac3779ea",
   "metadata": {},
   "outputs": [
    {
     "name": "stdout",
     "output_type": "stream",
     "text": [
      "556777"
     ]
    }
   ],
   "source": [
    "a=[5,5,6,7,7,7]\n",
    "b=set(a)\n",
    "def test(lst):\n",
    "    if lst in b:\n",
    "        return 1\n",
    "    else:\n",
    "        return 0\n",
    "for  i  in filter(test,a):\n",
    "    print(i,end=\"\")"
   ]
  },
  {
   "cell_type": "code",
   "execution_count": 8,
   "id": "2c715206",
   "metadata": {},
   "outputs": [
    {
     "name": "stdout",
     "output_type": "stream",
     "text": [
      "48\n"
     ]
    }
   ],
   "source": [
    "y=8 \n",
    "z=lambda x:x*y\n",
    "print(z(6))"
   ]
  },
  {
   "cell_type": "code",
   "execution_count": 1,
   "id": "d7ab6891",
   "metadata": {},
   "outputs": [
    {
     "ename": "NameError",
     "evalue": "name 'O' is not defined",
     "output_type": "error",
     "traceback": [
      "\u001b[1;31m---------------------------------------------------------------------------\u001b[0m",
      "\u001b[1;31mNameError\u001b[0m                                 Traceback (most recent call last)",
      "\u001b[1;32m<ipython-input-1-0e423561785c>\u001b[0m in \u001b[0;36m<module>\u001b[1;34m\u001b[0m\n\u001b[1;32m----> 1\u001b[1;33m \u001b[1;32mfor\u001b[0m \u001b[0mi\u001b[0m \u001b[1;32min\u001b[0m \u001b[0mrange\u001b[0m\u001b[1;33m(\u001b[0m\u001b[0mO\u001b[0m\u001b[1;33m)\u001b[0m\u001b[1;33m:\u001b[0m\u001b[1;33m\u001b[0m\u001b[1;33m\u001b[0m\u001b[0m\n\u001b[0m\u001b[0;32m      2\u001b[0m     \u001b[0mprint\u001b[0m\u001b[1;33m(\u001b[0m\u001b[0mi\u001b[0m\u001b[1;33m)\u001b[0m\u001b[1;33m\u001b[0m\u001b[1;33m\u001b[0m\u001b[0m\n",
      "\u001b[1;31mNameError\u001b[0m: name 'O' is not defined"
     ]
    }
   ],
   "source": [
    "for i in range(O):\n",
    "    print(i)"
   ]
  },
  {
   "cell_type": "code",
   "execution_count": 2,
   "id": "4cd22c0c",
   "metadata": {},
   "outputs": [],
   "source": [
    "for i in range(0):\n",
    "    print(i)"
   ]
  },
  {
   "cell_type": "code",
   "execution_count": 4,
   "id": "8a8e9bef",
   "metadata": {},
   "outputs": [
    {
     "ename": "IndexError",
     "evalue": "Replacement index 0 out of range for positional args tuple",
     "output_type": "error",
     "traceback": [
      "\u001b[1;31m---------------------------------------------------------------------------\u001b[0m",
      "\u001b[1;31mIndexError\u001b[0m                                Traceback (most recent call last)",
      "\u001b[1;32m<ipython-input-4-5def94d2ba09>\u001b[0m in \u001b[0;36m<module>\u001b[1;34m\u001b[0m\n\u001b[1;32m----> 1\u001b[1;33m \u001b[0md\u001b[0m\u001b[1;33m=\u001b[0m\u001b[1;34m'{} {} {}'\u001b[0m\u001b[1;33m.\u001b[0m\u001b[0mformat\u001b[0m\u001b[1;33m(\u001b[0m\u001b[0ma\u001b[0m\u001b[1;33m=\u001b[0m\u001b[1;34m'hello'\u001b[0m\u001b[1;33m,\u001b[0m\u001b[0mb\u001b[0m\u001b[1;33m=\u001b[0m\u001b[1;34m'world'\u001b[0m\u001b[1;33m)\u001b[0m\u001b[1;33m\u001b[0m\u001b[1;33m\u001b[0m\u001b[0m\n\u001b[0m\u001b[0;32m      2\u001b[0m \u001b[0mprint\u001b[0m\u001b[1;33m(\u001b[0m\u001b[0md\u001b[0m\u001b[1;33m)\u001b[0m\u001b[1;33m\u001b[0m\u001b[1;33m\u001b[0m\u001b[0m\n",
      "\u001b[1;31mIndexError\u001b[0m: Replacement index 0 out of range for positional args tuple"
     ]
    }
   ],
   "source": [
    "d='{} {} {}'.format(a='hello',b='world')\n",
    "print(d)"
   ]
  },
  {
   "cell_type": "code",
   "execution_count": null,
   "id": "6159ae4b",
   "metadata": {},
   "outputs": [],
   "source": []
  }
 ],
 "metadata": {
  "kernelspec": {
   "display_name": "Python 3",
   "language": "python",
   "name": "python3"
  },
  "language_info": {
   "codemirror_mode": {
    "name": "ipython",
    "version": 3
   },
   "file_extension": ".py",
   "mimetype": "text/x-python",
   "name": "python",
   "nbconvert_exporter": "python",
   "pygments_lexer": "ipython3",
   "version": "3.8.8"
  }
 },
 "nbformat": 4,
 "nbformat_minor": 5
}
