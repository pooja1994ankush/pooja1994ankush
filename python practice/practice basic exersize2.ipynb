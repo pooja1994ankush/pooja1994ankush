{
 "cells": [
  {
   "cell_type": "markdown",
   "id": "ab23cc05",
   "metadata": {},
   "source": [
    "### write a program to extract each digit from an integer in the reverse order."
   ]
  },
  {
   "cell_type": "code",
   "execution_count": 7,
   "id": "53c383ac",
   "metadata": {},
   "outputs": [
    {
     "name": "stdout",
     "output_type": "stream",
     "text": [
      "Enter a number 123\n",
      "3 2 1 "
     ]
    }
   ],
   "source": [
    "n=int(input(\"Enter a number \"))\n",
    "m=n\n",
    "rev_order=0\n",
    "while n>0:\n",
    "    r=n%10\n",
    "    rev_order=r\n",
    "    n=n//10\n",
    "    print(rev_order,end=\" \")\n",
    "\n",
    "    "
   ]
  },
  {
   "cell_type": "markdown",
   "id": "7d361f76",
   "metadata": {},
   "source": [
    "### Calculate income tax for the given income by adhering to below rules."
   ]
  },
  {
   "cell_type": "markdown",
   "id": "cd310244",
   "metadata": {},
   "source": [
    "### 1st 10000=0% ,2nd 10000=10%, the remaining=20"
   ]
  },
  {
   "cell_type": "code",
   "execution_count": 10,
   "id": "c6587c93",
   "metadata": {},
   "outputs": [
    {
     "name": "stdout",
     "output_type": "stream",
     "text": [
      "enter amount26000\n",
      "28600.0\n"
     ]
    }
   ],
   "source": [
    "n=int(input(\"enter amount\"))\n",
    "if n==10000:\n",
    "    tax=0\n",
    "    income_tax=n+tax\n",
    "elif n>25000:\n",
    "    tax=n*10/100\n",
    "    income_tax=n+tax\n",
    "else:\n",
    "    tax=n*20/100\n",
    "    income_tax=n+tax\n",
    "print(income_tax)    "
   ]
  },
  {
   "cell_type": "markdown",
   "id": "d70aebf3",
   "metadata": {},
   "source": [
    "### Print Multiplication table from 1 to 10"
   ]
  },
  {
   "cell_type": "code",
   "execution_count": 18,
   "id": "4e0f92dd",
   "metadata": {},
   "outputs": [
    {
     "name": "stdout",
     "output_type": "stream",
     "text": [
      "1   2   3   4   5   6   7   8   9   10   \n",
      "2   4   6   8   10   12   14   16   18   20   \n",
      "3   6   9   12   15   18   21   24   27   30   \n",
      "4   8   12   16   20   24   28   32   36   40   \n",
      "5   10   15   20   25   30   35   40   45   50   \n",
      "6   12   18   24   30   36   42   48   54   60   \n",
      "7   14   21   28   35   42   49   56   63   70   \n",
      "8   16   24   32   40   48   56   64   72   80   \n",
      "9   18   27   36   45   54   63   72   81   90   \n",
      "10   20   30   40   50   60   70   80   90   100   \n"
     ]
    }
   ],
   "source": [
    "for i in range(1,11):\n",
    "    for j in range(1,11):\n",
    "        print(i*j,end=\"   \")\n",
    "    print()    "
   ]
  },
  {
   "cell_type": "markdown",
   "id": "daee003d",
   "metadata": {},
   "source": [
    "### Print Downward Half-Pyramid pattern with Star(asterisk)"
   ]
  },
  {
   "cell_type": "code",
   "execution_count": 33,
   "id": "334ac3e9",
   "metadata": {},
   "outputs": [
    {
     "name": "stdout",
     "output_type": "stream",
     "text": [
      "* * * * * * \n",
      "* * * * * \n",
      "* * * * \n",
      "* * * \n",
      "* * \n",
      "* \n"
     ]
    }
   ],
   "source": [
    "for i in range(6,0,-1):\n",
    "    for j in range(i):\n",
    "        print(\"*\",end=\" \")\n",
    "    print()    "
   ]
  },
  {
   "cell_type": "markdown",
   "id": "5edd8ab4",
   "metadata": {},
   "source": [
    "### Write a function called exponent (base,exp) that returns an int value of base raises to the power of exp."
   ]
  },
  {
   "cell_type": "code",
   "execution_count": 35,
   "id": "5f9cb2d1",
   "metadata": {},
   "outputs": [
    {
     "name": "stdout",
     "output_type": "stream",
     "text": [
      "enter a no.2\n",
      "enter a power5\n",
      "32\n"
     ]
    }
   ],
   "source": [
    "def fun(a,b):\n",
    "    mul=1\n",
    "    while b>0:\n",
    "        mul=mul*a\n",
    "        b-=1\n",
    "    return mul\n",
    "n=int(input(\"enter a no.\"))\n",
    "m=int(input(\"enter a power\"))\n",
    "c=fun(n,m)\n",
    "print(c)"
   ]
  },
  {
   "cell_type": "code",
   "execution_count": null,
   "id": "ce9678d7",
   "metadata": {},
   "outputs": [],
   "source": []
  }
 ],
 "metadata": {
  "kernelspec": {
   "display_name": "Python 3",
   "language": "python",
   "name": "python3"
  },
  "language_info": {
   "codemirror_mode": {
    "name": "ipython",
    "version": 3
   },
   "file_extension": ".py",
   "mimetype": "text/x-python",
   "name": "python",
   "nbconvert_exporter": "python",
   "pygments_lexer": "ipython3",
   "version": "3.8.8"
  }
 },
 "nbformat": 4,
 "nbformat_minor": 5
}
